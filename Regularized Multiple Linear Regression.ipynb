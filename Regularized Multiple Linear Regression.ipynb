{
 "cells": [
  {
   "cell_type": "markdown",
   "metadata": {},
   "source": [
    "We have already implemented a simple linear regression model by manually implementing gradient descent. For that implementation of linear regression, refer to the notebook titled \"Linear Regression with two variables and manual implementation of gradient descent 22.06.2019\". \n",
    "\n",
    "In this notebook we will solve a case study by using multiple linear regression, and regularised linear regression <span class=\"mark\">[Ridge and Lasso]</span>. We will also look at hyperparameter tuning for regularised regression. Also, we will concentrate on feature engineering and data preperation. "
   ]
  },
  {
   "cell_type": "markdown",
   "metadata": {},
   "source": [
    "This dataset comes from a loan aggregator who collects loan applications from different people and sends it to various financial institutions. \n",
    "\n",
    "They have collected various information from the loan applicants and have also collected what percentage of interest the bank offered to each of them. Our task now is to predict interest rate for future customers. \n",
    "\n",
    "The name of our output variable is \"Interest.Rate\" in the dataset"
   ]
  },
  {
   "cell_type": "code",
   "execution_count": 1,
   "metadata": {},
   "outputs": [],
   "source": [
    "# In the class, train_test_split and KFold methods are downloaded from \n",
    "#sklearn.cross_validationlibrary but, python packages have been updated, \n",
    "#so now the correct package is sklearn.model_selection\n",
    "\n",
    "import pandas as pd\n",
    "import numpy as np\n",
    "import math\n",
    "from sklearn.model_selection import train_test_split \n",
    "from sklearn.linear_model import LinearRegression, Lasso, Ridge\n",
    "from sklearn.model_selection import KFold\n",
    "%matplotlib inline"
   ]
  },
  {
   "cell_type": "code",
   "execution_count": 2,
   "metadata": {},
   "outputs": [],
   "source": [
    "data_file=r'C:/Users/HP/Dropbox/Edvancer/CMLEP/Data/Data/loans data.csv'\n",
    "loan_data = pd.read_csv(data_file)"
   ]
  },
  {
   "cell_type": "code",
   "execution_count": 3,
   "metadata": {},
   "outputs": [
    {
     "data": {
      "text/html": [
       "<div>\n",
       "<style scoped>\n",
       "    .dataframe tbody tr th:only-of-type {\n",
       "        vertical-align: middle;\n",
       "    }\n",
       "\n",
       "    .dataframe tbody tr th {\n",
       "        vertical-align: top;\n",
       "    }\n",
       "\n",
       "    .dataframe thead th {\n",
       "        text-align: right;\n",
       "    }\n",
       "</style>\n",
       "<table border=\"1\" class=\"dataframe\">\n",
       "  <thead>\n",
       "    <tr style=\"text-align: right;\">\n",
       "      <th></th>\n",
       "      <th>ID</th>\n",
       "      <th>Amount.Requested</th>\n",
       "      <th>Amount.Funded.By.Investors</th>\n",
       "      <th>Interest.Rate</th>\n",
       "      <th>Loan.Length</th>\n",
       "      <th>Loan.Purpose</th>\n",
       "      <th>Debt.To.Income.Ratio</th>\n",
       "      <th>State</th>\n",
       "      <th>Home.Ownership</th>\n",
       "      <th>Monthly.Income</th>\n",
       "      <th>FICO.Range</th>\n",
       "      <th>Open.CREDIT.Lines</th>\n",
       "      <th>Revolving.CREDIT.Balance</th>\n",
       "      <th>Inquiries.in.the.Last.6.Months</th>\n",
       "      <th>Employment.Length</th>\n",
       "    </tr>\n",
       "  </thead>\n",
       "  <tbody>\n",
       "    <tr>\n",
       "      <th>0</th>\n",
       "      <td>81174.0</td>\n",
       "      <td>20000</td>\n",
       "      <td>20000</td>\n",
       "      <td>8.90%</td>\n",
       "      <td>36 months</td>\n",
       "      <td>debt_consolidation</td>\n",
       "      <td>14.90%</td>\n",
       "      <td>SC</td>\n",
       "      <td>MORTGAGE</td>\n",
       "      <td>6541.67</td>\n",
       "      <td>735-739</td>\n",
       "      <td>14</td>\n",
       "      <td>14272</td>\n",
       "      <td>2.0</td>\n",
       "      <td>&lt; 1 year</td>\n",
       "    </tr>\n",
       "    <tr>\n",
       "      <th>1</th>\n",
       "      <td>99592.0</td>\n",
       "      <td>19200</td>\n",
       "      <td>19200</td>\n",
       "      <td>12.12%</td>\n",
       "      <td>36 months</td>\n",
       "      <td>debt_consolidation</td>\n",
       "      <td>28.36%</td>\n",
       "      <td>TX</td>\n",
       "      <td>MORTGAGE</td>\n",
       "      <td>4583.33</td>\n",
       "      <td>715-719</td>\n",
       "      <td>12</td>\n",
       "      <td>11140</td>\n",
       "      <td>1.0</td>\n",
       "      <td>2 years</td>\n",
       "    </tr>\n",
       "    <tr>\n",
       "      <th>2</th>\n",
       "      <td>80059.0</td>\n",
       "      <td>35000</td>\n",
       "      <td>35000</td>\n",
       "      <td>21.98%</td>\n",
       "      <td>60 months</td>\n",
       "      <td>debt_consolidation</td>\n",
       "      <td>23.81%</td>\n",
       "      <td>CA</td>\n",
       "      <td>MORTGAGE</td>\n",
       "      <td>11500.00</td>\n",
       "      <td>690-694</td>\n",
       "      <td>14</td>\n",
       "      <td>21977</td>\n",
       "      <td>1.0</td>\n",
       "      <td>2 years</td>\n",
       "    </tr>\n",
       "    <tr>\n",
       "      <th>3</th>\n",
       "      <td>15825.0</td>\n",
       "      <td>10000</td>\n",
       "      <td>9975</td>\n",
       "      <td>9.99%</td>\n",
       "      <td>36 months</td>\n",
       "      <td>debt_consolidation</td>\n",
       "      <td>14.30%</td>\n",
       "      <td>KS</td>\n",
       "      <td>MORTGAGE</td>\n",
       "      <td>3833.33</td>\n",
       "      <td>695-699</td>\n",
       "      <td>10</td>\n",
       "      <td>9346</td>\n",
       "      <td>0.0</td>\n",
       "      <td>5 years</td>\n",
       "    </tr>\n",
       "    <tr>\n",
       "      <th>4</th>\n",
       "      <td>33182.0</td>\n",
       "      <td>12000</td>\n",
       "      <td>12000</td>\n",
       "      <td>11.71%</td>\n",
       "      <td>36 months</td>\n",
       "      <td>credit_card</td>\n",
       "      <td>18.78%</td>\n",
       "      <td>NJ</td>\n",
       "      <td>RENT</td>\n",
       "      <td>3195.00</td>\n",
       "      <td>695-699</td>\n",
       "      <td>11</td>\n",
       "      <td>14469</td>\n",
       "      <td>0.0</td>\n",
       "      <td>9 years</td>\n",
       "    </tr>\n",
       "  </tbody>\n",
       "</table>\n",
       "</div>"
      ],
      "text/plain": [
       "        ID Amount.Requested Amount.Funded.By.Investors Interest.Rate  \\\n",
       "0  81174.0            20000                      20000         8.90%   \n",
       "1  99592.0            19200                      19200        12.12%   \n",
       "2  80059.0            35000                      35000        21.98%   \n",
       "3  15825.0            10000                       9975         9.99%   \n",
       "4  33182.0            12000                      12000        11.71%   \n",
       "\n",
       "  Loan.Length        Loan.Purpose Debt.To.Income.Ratio State Home.Ownership  \\\n",
       "0   36 months  debt_consolidation               14.90%    SC       MORTGAGE   \n",
       "1   36 months  debt_consolidation               28.36%    TX       MORTGAGE   \n",
       "2   60 months  debt_consolidation               23.81%    CA       MORTGAGE   \n",
       "3   36 months  debt_consolidation               14.30%    KS       MORTGAGE   \n",
       "4   36 months         credit_card               18.78%    NJ           RENT   \n",
       "\n",
       "   Monthly.Income FICO.Range Open.CREDIT.Lines Revolving.CREDIT.Balance  \\\n",
       "0         6541.67    735-739                14                    14272   \n",
       "1         4583.33    715-719                12                    11140   \n",
       "2        11500.00    690-694                14                    21977   \n",
       "3         3833.33    695-699                10                     9346   \n",
       "4         3195.00    695-699                11                    14469   \n",
       "\n",
       "   Inquiries.in.the.Last.6.Months Employment.Length  \n",
       "0                             2.0          < 1 year  \n",
       "1                             1.0           2 years  \n",
       "2                             1.0           2 years  \n",
       "3                             0.0           5 years  \n",
       "4                             0.0           9 years  "
      ]
     },
     "execution_count": 3,
     "metadata": {},
     "output_type": "execute_result"
    }
   ],
   "source": [
    "loan_data.head()"
   ]
  },
  {
   "cell_type": "code",
   "execution_count": 4,
   "metadata": {},
   "outputs": [
    {
     "data": {
      "text/plain": [
       "ID                                float64\n",
       "Amount.Requested                   object\n",
       "Amount.Funded.By.Investors         object\n",
       "Interest.Rate                      object\n",
       "Loan.Length                        object\n",
       "Loan.Purpose                       object\n",
       "Debt.To.Income.Ratio               object\n",
       "State                              object\n",
       "Home.Ownership                     object\n",
       "Monthly.Income                    float64\n",
       "FICO.Range                         object\n",
       "Open.CREDIT.Lines                  object\n",
       "Revolving.CREDIT.Balance           object\n",
       "Inquiries.in.the.Last.6.Months    float64\n",
       "Employment.Length                  object\n",
       "dtype: object"
      ]
     },
     "execution_count": 4,
     "metadata": {},
     "output_type": "execute_result"
    }
   ],
   "source": [
    "loan_data.dtypes"
   ]
  },
  {
   "cell_type": "markdown",
   "metadata": {},
   "source": [
    "#### Variables Interest.Rate and Debt.To.Income.Ratio contains \"%\" sign in their values and because of which they are a \"character\" column and not a \"numeric\" column. \n",
    "\n",
    "#### Therefore those \"%\" signs should be removed first. "
   ]
  },
  {
   "cell_type": "code",
   "execution_count": 5,
   "metadata": {},
   "outputs": [],
   "source": [
    "col_with_percentage=['Interest.Rate','Debt.To.Income.Ratio']\n",
    "\n",
    "#first we convert the entire column into string so we can easily remove % sign using \n",
    "#string operation then we replace % with '' in each string using list comprehension \n",
    "# and replace the column with this list\n",
    "\n",
    "for col in col_with_percentage:\n",
    "    loan_data[col]= loan_data[col].astype('str')\n",
    "    loan_data[col]= [x.replace('%','') for x in loan_data[col]]"
   ]
  },
  {
   "cell_type": "code",
   "execution_count": 6,
   "metadata": {},
   "outputs": [
    {
     "data": {
      "text/plain": [
       "ID                                float64\n",
       "Amount.Requested                   object\n",
       "Amount.Funded.By.Investors         object\n",
       "Interest.Rate                      object\n",
       "Loan.Length                        object\n",
       "Loan.Purpose                       object\n",
       "Debt.To.Income.Ratio               object\n",
       "State                              object\n",
       "Home.Ownership                     object\n",
       "Monthly.Income                    float64\n",
       "FICO.Range                         object\n",
       "Open.CREDIT.Lines                  object\n",
       "Revolving.CREDIT.Balance           object\n",
       "Inquiries.in.the.Last.6.Months    float64\n",
       "Employment.Length                  object\n",
       "dtype: object"
      ]
     },
     "execution_count": 6,
     "metadata": {},
     "output_type": "execute_result"
    }
   ],
   "source": [
    "loan_data.dtypes"
   ]
  },
  {
   "cell_type": "code",
   "execution_count": 7,
   "metadata": {},
   "outputs": [
    {
     "data": {
      "text/html": [
       "<div>\n",
       "<style scoped>\n",
       "    .dataframe tbody tr th:only-of-type {\n",
       "        vertical-align: middle;\n",
       "    }\n",
       "\n",
       "    .dataframe tbody tr th {\n",
       "        vertical-align: top;\n",
       "    }\n",
       "\n",
       "    .dataframe thead th {\n",
       "        text-align: right;\n",
       "    }\n",
       "</style>\n",
       "<table border=\"1\" class=\"dataframe\">\n",
       "  <thead>\n",
       "    <tr style=\"text-align: right;\">\n",
       "      <th></th>\n",
       "      <th>ID</th>\n",
       "      <th>Amount.Requested</th>\n",
       "      <th>Amount.Funded.By.Investors</th>\n",
       "      <th>Interest.Rate</th>\n",
       "      <th>Loan.Length</th>\n",
       "      <th>Loan.Purpose</th>\n",
       "      <th>Debt.To.Income.Ratio</th>\n",
       "      <th>State</th>\n",
       "      <th>Home.Ownership</th>\n",
       "      <th>Monthly.Income</th>\n",
       "      <th>FICO.Range</th>\n",
       "      <th>Open.CREDIT.Lines</th>\n",
       "      <th>Revolving.CREDIT.Balance</th>\n",
       "      <th>Inquiries.in.the.Last.6.Months</th>\n",
       "      <th>Employment.Length</th>\n",
       "    </tr>\n",
       "  </thead>\n",
       "  <tbody>\n",
       "    <tr>\n",
       "      <th>0</th>\n",
       "      <td>81174.0</td>\n",
       "      <td>20000</td>\n",
       "      <td>20000</td>\n",
       "      <td>8.90</td>\n",
       "      <td>36 months</td>\n",
       "      <td>debt_consolidation</td>\n",
       "      <td>14.90</td>\n",
       "      <td>SC</td>\n",
       "      <td>MORTGAGE</td>\n",
       "      <td>6541.67</td>\n",
       "      <td>735-739</td>\n",
       "      <td>14</td>\n",
       "      <td>14272</td>\n",
       "      <td>2.0</td>\n",
       "      <td>&lt; 1 year</td>\n",
       "    </tr>\n",
       "    <tr>\n",
       "      <th>1</th>\n",
       "      <td>99592.0</td>\n",
       "      <td>19200</td>\n",
       "      <td>19200</td>\n",
       "      <td>12.12</td>\n",
       "      <td>36 months</td>\n",
       "      <td>debt_consolidation</td>\n",
       "      <td>28.36</td>\n",
       "      <td>TX</td>\n",
       "      <td>MORTGAGE</td>\n",
       "      <td>4583.33</td>\n",
       "      <td>715-719</td>\n",
       "      <td>12</td>\n",
       "      <td>11140</td>\n",
       "      <td>1.0</td>\n",
       "      <td>2 years</td>\n",
       "    </tr>\n",
       "    <tr>\n",
       "      <th>2</th>\n",
       "      <td>80059.0</td>\n",
       "      <td>35000</td>\n",
       "      <td>35000</td>\n",
       "      <td>21.98</td>\n",
       "      <td>60 months</td>\n",
       "      <td>debt_consolidation</td>\n",
       "      <td>23.81</td>\n",
       "      <td>CA</td>\n",
       "      <td>MORTGAGE</td>\n",
       "      <td>11500.00</td>\n",
       "      <td>690-694</td>\n",
       "      <td>14</td>\n",
       "      <td>21977</td>\n",
       "      <td>1.0</td>\n",
       "      <td>2 years</td>\n",
       "    </tr>\n",
       "    <tr>\n",
       "      <th>3</th>\n",
       "      <td>15825.0</td>\n",
       "      <td>10000</td>\n",
       "      <td>9975</td>\n",
       "      <td>9.99</td>\n",
       "      <td>36 months</td>\n",
       "      <td>debt_consolidation</td>\n",
       "      <td>14.30</td>\n",
       "      <td>KS</td>\n",
       "      <td>MORTGAGE</td>\n",
       "      <td>3833.33</td>\n",
       "      <td>695-699</td>\n",
       "      <td>10</td>\n",
       "      <td>9346</td>\n",
       "      <td>0.0</td>\n",
       "      <td>5 years</td>\n",
       "    </tr>\n",
       "    <tr>\n",
       "      <th>4</th>\n",
       "      <td>33182.0</td>\n",
       "      <td>12000</td>\n",
       "      <td>12000</td>\n",
       "      <td>11.71</td>\n",
       "      <td>36 months</td>\n",
       "      <td>credit_card</td>\n",
       "      <td>18.78</td>\n",
       "      <td>NJ</td>\n",
       "      <td>RENT</td>\n",
       "      <td>3195.00</td>\n",
       "      <td>695-699</td>\n",
       "      <td>11</td>\n",
       "      <td>14469</td>\n",
       "      <td>0.0</td>\n",
       "      <td>9 years</td>\n",
       "    </tr>\n",
       "  </tbody>\n",
       "</table>\n",
       "</div>"
      ],
      "text/plain": [
       "        ID Amount.Requested Amount.Funded.By.Investors Interest.Rate  \\\n",
       "0  81174.0            20000                      20000          8.90   \n",
       "1  99592.0            19200                      19200         12.12   \n",
       "2  80059.0            35000                      35000         21.98   \n",
       "3  15825.0            10000                       9975          9.99   \n",
       "4  33182.0            12000                      12000         11.71   \n",
       "\n",
       "  Loan.Length        Loan.Purpose Debt.To.Income.Ratio State Home.Ownership  \\\n",
       "0   36 months  debt_consolidation                14.90    SC       MORTGAGE   \n",
       "1   36 months  debt_consolidation                28.36    TX       MORTGAGE   \n",
       "2   60 months  debt_consolidation                23.81    CA       MORTGAGE   \n",
       "3   36 months  debt_consolidation                14.30    KS       MORTGAGE   \n",
       "4   36 months         credit_card                18.78    NJ           RENT   \n",
       "\n",
       "   Monthly.Income FICO.Range Open.CREDIT.Lines Revolving.CREDIT.Balance  \\\n",
       "0         6541.67    735-739                14                    14272   \n",
       "1         4583.33    715-719                12                    11140   \n",
       "2        11500.00    690-694                14                    21977   \n",
       "3         3833.33    695-699                10                     9346   \n",
       "4         3195.00    695-699                11                    14469   \n",
       "\n",
       "   Inquiries.in.the.Last.6.Months Employment.Length  \n",
       "0                             2.0          < 1 year  \n",
       "1                             1.0           2 years  \n",
       "2                             1.0           2 years  \n",
       "3                             0.0           5 years  \n",
       "4                             0.0           9 years  "
      ]
     },
     "execution_count": 7,
     "metadata": {},
     "output_type": "execute_result"
    }
   ],
   "source": [
    "loan_data.head()"
   ]
  },
  {
   "cell_type": "markdown",
   "metadata": {},
   "source": [
    "#### Now the '%' symbol from 'Debt.To.Income.Ratio' and 'Interest.Rate' columns are gone. But still, they are not converted to integers, they are still string values. "
   ]
  },
  {
   "cell_type": "code",
   "execution_count": 8,
   "metadata": {},
   "outputs": [
    {
     "data": {
      "text/plain": [
       "ID                                float64\n",
       "Amount.Requested                   object\n",
       "Amount.Funded.By.Investors         object\n",
       "Interest.Rate                      object\n",
       "Loan.Length                        object\n",
       "Loan.Purpose                       object\n",
       "Debt.To.Income.Ratio               object\n",
       "State                              object\n",
       "Home.Ownership                     object\n",
       "Monthly.Income                    float64\n",
       "FICO.Range                         object\n",
       "Open.CREDIT.Lines                  object\n",
       "Revolving.CREDIT.Balance           object\n",
       "Inquiries.in.the.Last.6.Months    float64\n",
       "Employment.Length                  object\n",
       "dtype: object"
      ]
     },
     "execution_count": 8,
     "metadata": {},
     "output_type": "execute_result"
    }
   ],
   "source": [
    "loan_data.dtypes"
   ]
  },
  {
   "cell_type": "markdown",
   "metadata": {},
   "source": [
    "#### Now, lets convert all the columns that has only numbers into numeric data types. "
   ]
  },
  {
   "cell_type": "code",
   "execution_count": 9,
   "metadata": {},
   "outputs": [],
   "source": [
    "columns_with_numbers_only = ['Amount.Requested','Amount.Funded.By.Investors',\n",
    "                             'Interest.Rate','Debt.To.Income.Ratio',\n",
    "                             'Monthly.Income','Open.CREDIT.Lines', \n",
    "                             'Revolving.CREDIT.Balance', \n",
    "                             'Inquiries.in.the.Last.6.Months']\n",
    "#Creating a list of column names that should be converted to integers"
   ]
  },
  {
   "cell_type": "code",
   "execution_count": 10,
   "metadata": {},
   "outputs": [],
   "source": [
    "for numeric_column_name in columns_with_numbers_only:\n",
    "    loan_data[numeric_column_name]=pd.to_numeric(loan_data[numeric_column_name],\n",
    "                                                 errors='coerce')\n",
    "    \n",
    "#The 'errors=coerce' argument will replace all non-numeric values in the columns\n",
    "# with NaN values If this argument is missing then we will get an error and \n",
    "#execution will stop."
   ]
  },
  {
   "cell_type": "code",
   "execution_count": 11,
   "metadata": {
    "scrolled": true
   },
   "outputs": [
    {
     "data": {
      "text/plain": [
       "ID                                float64\n",
       "Amount.Requested                  float64\n",
       "Amount.Funded.By.Investors        float64\n",
       "Interest.Rate                     float64\n",
       "Loan.Length                        object\n",
       "Loan.Purpose                       object\n",
       "Debt.To.Income.Ratio              float64\n",
       "State                              object\n",
       "Home.Ownership                     object\n",
       "Monthly.Income                    float64\n",
       "FICO.Range                         object\n",
       "Open.CREDIT.Lines                 float64\n",
       "Revolving.CREDIT.Balance          float64\n",
       "Inquiries.in.the.Last.6.Months    float64\n",
       "Employment.Length                  object\n",
       "dtype: object"
      ]
     },
     "execution_count": 11,
     "metadata": {},
     "output_type": "execute_result"
    }
   ],
   "source": [
    "loan_data.dtypes"
   ]
  },
  {
   "cell_type": "code",
   "execution_count": 12,
   "metadata": {},
   "outputs": [
    {
     "data": {
      "text/html": [
       "<div>\n",
       "<style scoped>\n",
       "    .dataframe tbody tr th:only-of-type {\n",
       "        vertical-align: middle;\n",
       "    }\n",
       "\n",
       "    .dataframe tbody tr th {\n",
       "        vertical-align: top;\n",
       "    }\n",
       "\n",
       "    .dataframe thead th {\n",
       "        text-align: right;\n",
       "    }\n",
       "</style>\n",
       "<table border=\"1\" class=\"dataframe\">\n",
       "  <thead>\n",
       "    <tr style=\"text-align: right;\">\n",
       "      <th></th>\n",
       "      <th>ID</th>\n",
       "      <th>Amount.Requested</th>\n",
       "      <th>Amount.Funded.By.Investors</th>\n",
       "      <th>Interest.Rate</th>\n",
       "      <th>Loan.Length</th>\n",
       "      <th>Loan.Purpose</th>\n",
       "      <th>Debt.To.Income.Ratio</th>\n",
       "      <th>State</th>\n",
       "      <th>Home.Ownership</th>\n",
       "      <th>Monthly.Income</th>\n",
       "      <th>FICO.Range</th>\n",
       "      <th>Open.CREDIT.Lines</th>\n",
       "      <th>Revolving.CREDIT.Balance</th>\n",
       "      <th>Inquiries.in.the.Last.6.Months</th>\n",
       "      <th>Employment.Length</th>\n",
       "    </tr>\n",
       "  </thead>\n",
       "  <tbody>\n",
       "    <tr>\n",
       "      <th>0</th>\n",
       "      <td>81174.0</td>\n",
       "      <td>20000.0</td>\n",
       "      <td>20000.0</td>\n",
       "      <td>8.90</td>\n",
       "      <td>36 months</td>\n",
       "      <td>debt_consolidation</td>\n",
       "      <td>14.90</td>\n",
       "      <td>SC</td>\n",
       "      <td>MORTGAGE</td>\n",
       "      <td>6541.67</td>\n",
       "      <td>735-739</td>\n",
       "      <td>14.0</td>\n",
       "      <td>14272.0</td>\n",
       "      <td>2.0</td>\n",
       "      <td>&lt; 1 year</td>\n",
       "    </tr>\n",
       "    <tr>\n",
       "      <th>1</th>\n",
       "      <td>99592.0</td>\n",
       "      <td>19200.0</td>\n",
       "      <td>19200.0</td>\n",
       "      <td>12.12</td>\n",
       "      <td>36 months</td>\n",
       "      <td>debt_consolidation</td>\n",
       "      <td>28.36</td>\n",
       "      <td>TX</td>\n",
       "      <td>MORTGAGE</td>\n",
       "      <td>4583.33</td>\n",
       "      <td>715-719</td>\n",
       "      <td>12.0</td>\n",
       "      <td>11140.0</td>\n",
       "      <td>1.0</td>\n",
       "      <td>2 years</td>\n",
       "    </tr>\n",
       "    <tr>\n",
       "      <th>2</th>\n",
       "      <td>80059.0</td>\n",
       "      <td>35000.0</td>\n",
       "      <td>35000.0</td>\n",
       "      <td>21.98</td>\n",
       "      <td>60 months</td>\n",
       "      <td>debt_consolidation</td>\n",
       "      <td>23.81</td>\n",
       "      <td>CA</td>\n",
       "      <td>MORTGAGE</td>\n",
       "      <td>11500.00</td>\n",
       "      <td>690-694</td>\n",
       "      <td>14.0</td>\n",
       "      <td>21977.0</td>\n",
       "      <td>1.0</td>\n",
       "      <td>2 years</td>\n",
       "    </tr>\n",
       "    <tr>\n",
       "      <th>3</th>\n",
       "      <td>15825.0</td>\n",
       "      <td>10000.0</td>\n",
       "      <td>9975.0</td>\n",
       "      <td>9.99</td>\n",
       "      <td>36 months</td>\n",
       "      <td>debt_consolidation</td>\n",
       "      <td>14.30</td>\n",
       "      <td>KS</td>\n",
       "      <td>MORTGAGE</td>\n",
       "      <td>3833.33</td>\n",
       "      <td>695-699</td>\n",
       "      <td>10.0</td>\n",
       "      <td>9346.0</td>\n",
       "      <td>0.0</td>\n",
       "      <td>5 years</td>\n",
       "    </tr>\n",
       "    <tr>\n",
       "      <th>4</th>\n",
       "      <td>33182.0</td>\n",
       "      <td>12000.0</td>\n",
       "      <td>12000.0</td>\n",
       "      <td>11.71</td>\n",
       "      <td>36 months</td>\n",
       "      <td>credit_card</td>\n",
       "      <td>18.78</td>\n",
       "      <td>NJ</td>\n",
       "      <td>RENT</td>\n",
       "      <td>3195.00</td>\n",
       "      <td>695-699</td>\n",
       "      <td>11.0</td>\n",
       "      <td>14469.0</td>\n",
       "      <td>0.0</td>\n",
       "      <td>9 years</td>\n",
       "    </tr>\n",
       "  </tbody>\n",
       "</table>\n",
       "</div>"
      ],
      "text/plain": [
       "        ID  Amount.Requested  Amount.Funded.By.Investors  Interest.Rate  \\\n",
       "0  81174.0           20000.0                     20000.0           8.90   \n",
       "1  99592.0           19200.0                     19200.0          12.12   \n",
       "2  80059.0           35000.0                     35000.0          21.98   \n",
       "3  15825.0           10000.0                      9975.0           9.99   \n",
       "4  33182.0           12000.0                     12000.0          11.71   \n",
       "\n",
       "  Loan.Length        Loan.Purpose  Debt.To.Income.Ratio State Home.Ownership  \\\n",
       "0   36 months  debt_consolidation                 14.90    SC       MORTGAGE   \n",
       "1   36 months  debt_consolidation                 28.36    TX       MORTGAGE   \n",
       "2   60 months  debt_consolidation                 23.81    CA       MORTGAGE   \n",
       "3   36 months  debt_consolidation                 14.30    KS       MORTGAGE   \n",
       "4   36 months         credit_card                 18.78    NJ           RENT   \n",
       "\n",
       "   Monthly.Income FICO.Range  Open.CREDIT.Lines  Revolving.CREDIT.Balance  \\\n",
       "0         6541.67    735-739               14.0                   14272.0   \n",
       "1         4583.33    715-719               12.0                   11140.0   \n",
       "2        11500.00    690-694               14.0                   21977.0   \n",
       "3         3833.33    695-699               10.0                    9346.0   \n",
       "4         3195.00    695-699               11.0                   14469.0   \n",
       "\n",
       "   Inquiries.in.the.Last.6.Months Employment.Length  \n",
       "0                             2.0          < 1 year  \n",
       "1                             1.0           2 years  \n",
       "2                             1.0           2 years  \n",
       "3                             0.0           5 years  \n",
       "4                             0.0           9 years  "
      ]
     },
     "execution_count": 12,
     "metadata": {},
     "output_type": "execute_result"
    }
   ],
   "source": [
    "loan_data.head()"
   ]
  },
  {
   "cell_type": "code",
   "execution_count": 13,
   "metadata": {},
   "outputs": [
    {
     "data": {
      "text/plain": [
       "(6, 9)"
      ]
     },
     "execution_count": 13,
     "metadata": {},
     "output_type": "execute_result"
    }
   ],
   "source": [
    "(loan_data.dtypes=='object').sum(), (loan_data.dtypes=='float64').sum()"
   ]
  },
  {
   "cell_type": "markdown",
   "metadata": {},
   "source": [
    "Now, we can see that we have only 6 columns as strings/object and the remaining 9 are integers.\n",
    "Let's also see what those object columns are"
   ]
  },
  {
   "cell_type": "code",
   "execution_count": 14,
   "metadata": {},
   "outputs": [
    {
     "data": {
      "text/html": [
       "<div>\n",
       "<style scoped>\n",
       "    .dataframe tbody tr th:only-of-type {\n",
       "        vertical-align: middle;\n",
       "    }\n",
       "\n",
       "    .dataframe tbody tr th {\n",
       "        vertical-align: top;\n",
       "    }\n",
       "\n",
       "    .dataframe thead th {\n",
       "        text-align: right;\n",
       "    }\n",
       "</style>\n",
       "<table border=\"1\" class=\"dataframe\">\n",
       "  <thead>\n",
       "    <tr style=\"text-align: right;\">\n",
       "      <th></th>\n",
       "      <th>Loan.Length</th>\n",
       "      <th>Loan.Purpose</th>\n",
       "      <th>State</th>\n",
       "      <th>Home.Ownership</th>\n",
       "      <th>FICO.Range</th>\n",
       "      <th>Employment.Length</th>\n",
       "    </tr>\n",
       "  </thead>\n",
       "  <tbody>\n",
       "    <tr>\n",
       "      <th>0</th>\n",
       "      <td>36 months</td>\n",
       "      <td>debt_consolidation</td>\n",
       "      <td>SC</td>\n",
       "      <td>MORTGAGE</td>\n",
       "      <td>735-739</td>\n",
       "      <td>&lt; 1 year</td>\n",
       "    </tr>\n",
       "    <tr>\n",
       "      <th>1</th>\n",
       "      <td>36 months</td>\n",
       "      <td>debt_consolidation</td>\n",
       "      <td>TX</td>\n",
       "      <td>MORTGAGE</td>\n",
       "      <td>715-719</td>\n",
       "      <td>2 years</td>\n",
       "    </tr>\n",
       "    <tr>\n",
       "      <th>2</th>\n",
       "      <td>60 months</td>\n",
       "      <td>debt_consolidation</td>\n",
       "      <td>CA</td>\n",
       "      <td>MORTGAGE</td>\n",
       "      <td>690-694</td>\n",
       "      <td>2 years</td>\n",
       "    </tr>\n",
       "    <tr>\n",
       "      <th>3</th>\n",
       "      <td>36 months</td>\n",
       "      <td>debt_consolidation</td>\n",
       "      <td>KS</td>\n",
       "      <td>MORTGAGE</td>\n",
       "      <td>695-699</td>\n",
       "      <td>5 years</td>\n",
       "    </tr>\n",
       "    <tr>\n",
       "      <th>4</th>\n",
       "      <td>36 months</td>\n",
       "      <td>credit_card</td>\n",
       "      <td>NJ</td>\n",
       "      <td>RENT</td>\n",
       "      <td>695-699</td>\n",
       "      <td>9 years</td>\n",
       "    </tr>\n",
       "  </tbody>\n",
       "</table>\n",
       "</div>"
      ],
      "text/plain": [
       "  Loan.Length        Loan.Purpose State Home.Ownership FICO.Range  \\\n",
       "0   36 months  debt_consolidation    SC       MORTGAGE    735-739   \n",
       "1   36 months  debt_consolidation    TX       MORTGAGE    715-719   \n",
       "2   60 months  debt_consolidation    CA       MORTGAGE    690-694   \n",
       "3   36 months  debt_consolidation    KS       MORTGAGE    695-699   \n",
       "4   36 months         credit_card    NJ           RENT    695-699   \n",
       "\n",
       "  Employment.Length  \n",
       "0          < 1 year  \n",
       "1           2 years  \n",
       "2           2 years  \n",
       "3           5 years  \n",
       "4           9 years  "
      ]
     },
     "execution_count": 14,
     "metadata": {},
     "output_type": "execute_result"
    }
   ],
   "source": [
    "object_column_names = loan_data.columns[loan_data.dtypes=='object']\n",
    "#creating a list of all columns which are of data type 'object'\n",
    "\n",
    "loan_data[object_column_names].head()\n",
    "#slicing the dataframe using those column names only"
   ]
  },
  {
   "cell_type": "markdown",
   "metadata": {},
   "source": [
    "#### We can see that all the 6 object type columns clearly have strings or some string value in them"
   ]
  },
  {
   "cell_type": "markdown",
   "metadata": {},
   "source": [
    "#### Here the variable 'Loan.Lenght' seems to be clearly categorical, so let's convert that into dummy variable"
   ]
  },
  {
   "cell_type": "code",
   "execution_count": 15,
   "metadata": {},
   "outputs": [
    {
     "data": {
      "text/plain": [
       "36 months    1950\n",
       "60 months     548\n",
       ".               1\n",
       "Name: Loan.Length, dtype: int64"
      ]
     },
     "execution_count": 15,
     "metadata": {},
     "output_type": "execute_result"
    }
   ],
   "source": [
    "loan_data['Loan.Length'].value_counts()"
   ]
  },
  {
   "cell_type": "markdown",
   "metadata": {},
   "source": [
    "As we can see, there are 3 categories in that variable.\n",
    "\n",
    "The function 'get_dummies' from pandas creates dummy variables for all the categorical values we have. This function returns a dataframe. So, we can use that to create dummy variables, then drop the variables that we don't need. "
   ]
  },
  {
   "cell_type": "code",
   "execution_count": 16,
   "metadata": {},
   "outputs": [],
   "source": [
    "loan_lenght_dummies = pd.get_dummies(loan_data['Loan.Length'])"
   ]
  },
  {
   "cell_type": "code",
   "execution_count": 17,
   "metadata": {},
   "outputs": [
    {
     "data": {
      "text/html": [
       "<div>\n",
       "<style scoped>\n",
       "    .dataframe tbody tr th:only-of-type {\n",
       "        vertical-align: middle;\n",
       "    }\n",
       "\n",
       "    .dataframe tbody tr th {\n",
       "        vertical-align: top;\n",
       "    }\n",
       "\n",
       "    .dataframe thead th {\n",
       "        text-align: right;\n",
       "    }\n",
       "</style>\n",
       "<table border=\"1\" class=\"dataframe\">\n",
       "  <thead>\n",
       "    <tr style=\"text-align: right;\">\n",
       "      <th></th>\n",
       "      <th>.</th>\n",
       "      <th>36 months</th>\n",
       "      <th>60 months</th>\n",
       "    </tr>\n",
       "  </thead>\n",
       "  <tbody>\n",
       "    <tr>\n",
       "      <th>0</th>\n",
       "      <td>0</td>\n",
       "      <td>1</td>\n",
       "      <td>0</td>\n",
       "    </tr>\n",
       "    <tr>\n",
       "      <th>1</th>\n",
       "      <td>0</td>\n",
       "      <td>1</td>\n",
       "      <td>0</td>\n",
       "    </tr>\n",
       "    <tr>\n",
       "      <th>2</th>\n",
       "      <td>0</td>\n",
       "      <td>0</td>\n",
       "      <td>1</td>\n",
       "    </tr>\n",
       "    <tr>\n",
       "      <th>3</th>\n",
       "      <td>0</td>\n",
       "      <td>1</td>\n",
       "      <td>0</td>\n",
       "    </tr>\n",
       "    <tr>\n",
       "      <th>4</th>\n",
       "      <td>0</td>\n",
       "      <td>1</td>\n",
       "      <td>0</td>\n",
       "    </tr>\n",
       "  </tbody>\n",
       "</table>\n",
       "</div>"
      ],
      "text/plain": [
       "   .  36 months  60 months\n",
       "0  0          1          0\n",
       "1  0          1          0\n",
       "2  0          0          1\n",
       "3  0          1          0\n",
       "4  0          1          0"
      ]
     },
     "execution_count": 17,
     "metadata": {},
     "output_type": "execute_result"
    }
   ],
   "source": [
    "loan_lenght_dummies.head()"
   ]
  },
  {
   "cell_type": "markdown",
   "metadata": {},
   "source": [
    "since '60_months' and the other value '.' has very less number of values compared to the value '36_months' we can drop them both altogether and add the dummy variable '36 months' to our original dataframe."
   ]
  },
  {
   "cell_type": "code",
   "execution_count": 18,
   "metadata": {},
   "outputs": [],
   "source": [
    "loan_data['Loan_lenght_36']= loan_lenght_dummies['36 months']"
   ]
  },
  {
   "cell_type": "markdown",
   "metadata": {},
   "source": [
    "Now that we don't need the variable 'loan_length_dummies' we can drop it altogether. \n",
    "Note:dropping variables from notebook environment is a permenant operation. "
   ]
  },
  {
   "cell_type": "code",
   "execution_count": 19,
   "metadata": {},
   "outputs": [
    {
     "name": "stdout",
     "output_type": "stream",
     "text": [
      "Once deleted, variables cannot be recovered. Proceed (y/[n])?  y\n"
     ]
    }
   ],
   "source": [
    "%reset_selective loan_lenght_dummies\n",
    "#deleting the variable 'loan_lenght_dummies'"
   ]
  },
  {
   "cell_type": "markdown",
   "metadata": {},
   "source": [
    "To know what all variables we have in our environment at present we can use the function 'who'"
   ]
  },
  {
   "cell_type": "code",
   "execution_count": 20,
   "metadata": {},
   "outputs": [
    {
     "name": "stdout",
     "output_type": "stream",
     "text": [
      "KFold\t Lasso\t LinearRegression\t Ridge\t col\t col_with_percentage\t columns_with_numbers_only\t data_file\t loan_data\t \n",
      "math\t np\t numeric_column_name\t object_column_names\t pd\t train_test_split\t \n"
     ]
    }
   ],
   "source": [
    "who"
   ]
  },
  {
   "cell_type": "markdown",
   "metadata": {},
   "source": [
    "Now that we have created dummy variables for the variable Loan.Lenght we can drop that variable from our original dataset"
   ]
  },
  {
   "cell_type": "code",
   "execution_count": 21,
   "metadata": {},
   "outputs": [],
   "source": [
    "loan_data.drop(labels='Loan.Length', axis=1, inplace=True)"
   ]
  },
  {
   "cell_type": "code",
   "execution_count": 22,
   "metadata": {},
   "outputs": [
    {
     "data": {
      "text/html": [
       "<div>\n",
       "<style scoped>\n",
       "    .dataframe tbody tr th:only-of-type {\n",
       "        vertical-align: middle;\n",
       "    }\n",
       "\n",
       "    .dataframe tbody tr th {\n",
       "        vertical-align: top;\n",
       "    }\n",
       "\n",
       "    .dataframe thead th {\n",
       "        text-align: right;\n",
       "    }\n",
       "</style>\n",
       "<table border=\"1\" class=\"dataframe\">\n",
       "  <thead>\n",
       "    <tr style=\"text-align: right;\">\n",
       "      <th></th>\n",
       "      <th>ID</th>\n",
       "      <th>Amount.Requested</th>\n",
       "      <th>Amount.Funded.By.Investors</th>\n",
       "      <th>Interest.Rate</th>\n",
       "      <th>Loan.Purpose</th>\n",
       "      <th>Debt.To.Income.Ratio</th>\n",
       "      <th>State</th>\n",
       "      <th>Home.Ownership</th>\n",
       "      <th>Monthly.Income</th>\n",
       "      <th>FICO.Range</th>\n",
       "      <th>Open.CREDIT.Lines</th>\n",
       "      <th>Revolving.CREDIT.Balance</th>\n",
       "      <th>Inquiries.in.the.Last.6.Months</th>\n",
       "      <th>Employment.Length</th>\n",
       "      <th>Loan_lenght_36</th>\n",
       "    </tr>\n",
       "  </thead>\n",
       "  <tbody>\n",
       "    <tr>\n",
       "      <th>0</th>\n",
       "      <td>81174.0</td>\n",
       "      <td>20000.0</td>\n",
       "      <td>20000.0</td>\n",
       "      <td>8.90</td>\n",
       "      <td>debt_consolidation</td>\n",
       "      <td>14.90</td>\n",
       "      <td>SC</td>\n",
       "      <td>MORTGAGE</td>\n",
       "      <td>6541.67</td>\n",
       "      <td>735-739</td>\n",
       "      <td>14.0</td>\n",
       "      <td>14272.0</td>\n",
       "      <td>2.0</td>\n",
       "      <td>&lt; 1 year</td>\n",
       "      <td>1</td>\n",
       "    </tr>\n",
       "    <tr>\n",
       "      <th>1</th>\n",
       "      <td>99592.0</td>\n",
       "      <td>19200.0</td>\n",
       "      <td>19200.0</td>\n",
       "      <td>12.12</td>\n",
       "      <td>debt_consolidation</td>\n",
       "      <td>28.36</td>\n",
       "      <td>TX</td>\n",
       "      <td>MORTGAGE</td>\n",
       "      <td>4583.33</td>\n",
       "      <td>715-719</td>\n",
       "      <td>12.0</td>\n",
       "      <td>11140.0</td>\n",
       "      <td>1.0</td>\n",
       "      <td>2 years</td>\n",
       "      <td>1</td>\n",
       "    </tr>\n",
       "    <tr>\n",
       "      <th>2</th>\n",
       "      <td>80059.0</td>\n",
       "      <td>35000.0</td>\n",
       "      <td>35000.0</td>\n",
       "      <td>21.98</td>\n",
       "      <td>debt_consolidation</td>\n",
       "      <td>23.81</td>\n",
       "      <td>CA</td>\n",
       "      <td>MORTGAGE</td>\n",
       "      <td>11500.00</td>\n",
       "      <td>690-694</td>\n",
       "      <td>14.0</td>\n",
       "      <td>21977.0</td>\n",
       "      <td>1.0</td>\n",
       "      <td>2 years</td>\n",
       "      <td>0</td>\n",
       "    </tr>\n",
       "    <tr>\n",
       "      <th>3</th>\n",
       "      <td>15825.0</td>\n",
       "      <td>10000.0</td>\n",
       "      <td>9975.0</td>\n",
       "      <td>9.99</td>\n",
       "      <td>debt_consolidation</td>\n",
       "      <td>14.30</td>\n",
       "      <td>KS</td>\n",
       "      <td>MORTGAGE</td>\n",
       "      <td>3833.33</td>\n",
       "      <td>695-699</td>\n",
       "      <td>10.0</td>\n",
       "      <td>9346.0</td>\n",
       "      <td>0.0</td>\n",
       "      <td>5 years</td>\n",
       "      <td>1</td>\n",
       "    </tr>\n",
       "    <tr>\n",
       "      <th>4</th>\n",
       "      <td>33182.0</td>\n",
       "      <td>12000.0</td>\n",
       "      <td>12000.0</td>\n",
       "      <td>11.71</td>\n",
       "      <td>credit_card</td>\n",
       "      <td>18.78</td>\n",
       "      <td>NJ</td>\n",
       "      <td>RENT</td>\n",
       "      <td>3195.00</td>\n",
       "      <td>695-699</td>\n",
       "      <td>11.0</td>\n",
       "      <td>14469.0</td>\n",
       "      <td>0.0</td>\n",
       "      <td>9 years</td>\n",
       "      <td>1</td>\n",
       "    </tr>\n",
       "  </tbody>\n",
       "</table>\n",
       "</div>"
      ],
      "text/plain": [
       "        ID  Amount.Requested  Amount.Funded.By.Investors  Interest.Rate  \\\n",
       "0  81174.0           20000.0                     20000.0           8.90   \n",
       "1  99592.0           19200.0                     19200.0          12.12   \n",
       "2  80059.0           35000.0                     35000.0          21.98   \n",
       "3  15825.0           10000.0                      9975.0           9.99   \n",
       "4  33182.0           12000.0                     12000.0          11.71   \n",
       "\n",
       "         Loan.Purpose  Debt.To.Income.Ratio State Home.Ownership  \\\n",
       "0  debt_consolidation                 14.90    SC       MORTGAGE   \n",
       "1  debt_consolidation                 28.36    TX       MORTGAGE   \n",
       "2  debt_consolidation                 23.81    CA       MORTGAGE   \n",
       "3  debt_consolidation                 14.30    KS       MORTGAGE   \n",
       "4         credit_card                 18.78    NJ           RENT   \n",
       "\n",
       "   Monthly.Income FICO.Range  Open.CREDIT.Lines  Revolving.CREDIT.Balance  \\\n",
       "0         6541.67    735-739               14.0                   14272.0   \n",
       "1         4583.33    715-719               12.0                   11140.0   \n",
       "2        11500.00    690-694               14.0                   21977.0   \n",
       "3         3833.33    695-699               10.0                    9346.0   \n",
       "4         3195.00    695-699               11.0                   14469.0   \n",
       "\n",
       "   Inquiries.in.the.Last.6.Months Employment.Length  Loan_lenght_36  \n",
       "0                             2.0          < 1 year               1  \n",
       "1                             1.0           2 years               1  \n",
       "2                             1.0           2 years               0  \n",
       "3                             0.0           5 years               1  \n",
       "4                             0.0           9 years               1  "
      ]
     },
     "execution_count": 22,
     "metadata": {},
     "output_type": "execute_result"
    }
   ],
   "source": [
    "loan_data.head()"
   ]
  },
  {
   "cell_type": "markdown",
   "metadata": {},
   "source": [
    "Let's see how many string datatype columns we have now"
   ]
  },
  {
   "cell_type": "code",
   "execution_count": 23,
   "metadata": {},
   "outputs": [
    {
     "data": {
      "text/html": [
       "<div>\n",
       "<style scoped>\n",
       "    .dataframe tbody tr th:only-of-type {\n",
       "        vertical-align: middle;\n",
       "    }\n",
       "\n",
       "    .dataframe tbody tr th {\n",
       "        vertical-align: top;\n",
       "    }\n",
       "\n",
       "    .dataframe thead th {\n",
       "        text-align: right;\n",
       "    }\n",
       "</style>\n",
       "<table border=\"1\" class=\"dataframe\">\n",
       "  <thead>\n",
       "    <tr style=\"text-align: right;\">\n",
       "      <th></th>\n",
       "      <th>Loan.Purpose</th>\n",
       "      <th>State</th>\n",
       "      <th>Home.Ownership</th>\n",
       "      <th>FICO.Range</th>\n",
       "      <th>Employment.Length</th>\n",
       "    </tr>\n",
       "  </thead>\n",
       "  <tbody>\n",
       "    <tr>\n",
       "      <th>0</th>\n",
       "      <td>debt_consolidation</td>\n",
       "      <td>SC</td>\n",
       "      <td>MORTGAGE</td>\n",
       "      <td>735-739</td>\n",
       "      <td>&lt; 1 year</td>\n",
       "    </tr>\n",
       "    <tr>\n",
       "      <th>1</th>\n",
       "      <td>debt_consolidation</td>\n",
       "      <td>TX</td>\n",
       "      <td>MORTGAGE</td>\n",
       "      <td>715-719</td>\n",
       "      <td>2 years</td>\n",
       "    </tr>\n",
       "    <tr>\n",
       "      <th>2</th>\n",
       "      <td>debt_consolidation</td>\n",
       "      <td>CA</td>\n",
       "      <td>MORTGAGE</td>\n",
       "      <td>690-694</td>\n",
       "      <td>2 years</td>\n",
       "    </tr>\n",
       "    <tr>\n",
       "      <th>3</th>\n",
       "      <td>debt_consolidation</td>\n",
       "      <td>KS</td>\n",
       "      <td>MORTGAGE</td>\n",
       "      <td>695-699</td>\n",
       "      <td>5 years</td>\n",
       "    </tr>\n",
       "    <tr>\n",
       "      <th>4</th>\n",
       "      <td>credit_card</td>\n",
       "      <td>NJ</td>\n",
       "      <td>RENT</td>\n",
       "      <td>695-699</td>\n",
       "      <td>9 years</td>\n",
       "    </tr>\n",
       "  </tbody>\n",
       "</table>\n",
       "</div>"
      ],
      "text/plain": [
       "         Loan.Purpose State Home.Ownership FICO.Range Employment.Length\n",
       "0  debt_consolidation    SC       MORTGAGE    735-739          < 1 year\n",
       "1  debt_consolidation    TX       MORTGAGE    715-719           2 years\n",
       "2  debt_consolidation    CA       MORTGAGE    690-694           2 years\n",
       "3  debt_consolidation    KS       MORTGAGE    695-699           5 years\n",
       "4         credit_card    NJ           RENT    695-699           9 years"
      ]
     },
     "execution_count": 23,
     "metadata": {},
     "output_type": "execute_result"
    }
   ],
   "source": [
    "object_column_names = loan_data.columns[loan_data.dtypes=='object']\n",
    "#creating a list of all columns which are of data type 'object'\n",
    "\n",
    "loan_data[object_column_names].head()\n",
    "#slicing the dataframe using those column names only"
   ]
  },
  {
   "cell_type": "markdown",
   "metadata": {},
   "source": [
    "Now, we have only 4. Let's start to examine the next variable 'Loan.Purpose'"
   ]
  },
  {
   "cell_type": "code",
   "execution_count": 24,
   "metadata": {},
   "outputs": [
    {
     "data": {
      "text/plain": [
       "debt_consolidation    1307\n",
       "credit_card            444\n",
       "other                  200\n",
       "home_improvement       152\n",
       "major_purchase         101\n",
       "small_business          87\n",
       "car                     50\n",
       "wedding                 39\n",
       "medical                 30\n",
       "moving                  29\n",
       "vacation                21\n",
       "house                   20\n",
       "educational             15\n",
       "renewable_energy         4\n",
       "Name: Loan.Purpose, dtype: int64"
      ]
     },
     "execution_count": 24,
     "metadata": {},
     "output_type": "execute_result"
    }
   ],
   "source": [
    "loan_data['Loan.Purpose'].value_counts()"
   ]
  },
  {
   "cell_type": "code",
   "execution_count": 25,
   "metadata": {},
   "outputs": [
    {
     "name": "stdout",
     "output_type": "stream",
     "text": [
      "14\n"
     ]
    }
   ],
   "source": [
    "print(len(loan_data['Loan.Purpose'].value_counts()))"
   ]
  },
  {
   "cell_type": "markdown",
   "metadata": {},
   "source": [
    "We have 14 categories in the variable 'Loan.Purpose'. \n",
    "\n",
    "We can either make 13 dummy variables or we can group some categories together to reduce the number of effective dummy variables needed. \n",
    "\n",
    "One method we can use to find possibilities to group categories together is by performing group_by operation between this variable and the response variable 'Interest.Rate'. "
   ]
  },
  {
   "cell_type": "code",
   "execution_count": 26,
   "metadata": {},
   "outputs": [
    {
     "data": {
      "text/plain": [
       "Loan.Purpose\n",
       "car                   11.0\n",
       "credit_card           13.0\n",
       "debt_consolidation    14.0\n",
       "educational           11.0\n",
       "home_improvement      12.0\n",
       "house                 13.0\n",
       "major_purchase        11.0\n",
       "medical               12.0\n",
       "moving                14.0\n",
       "other                 13.0\n",
       "renewable_energy      10.0\n",
       "small_business        13.0\n",
       "vacation              12.0\n",
       "wedding               12.0\n",
       "Name: Interest.Rate, dtype: float64"
      ]
     },
     "execution_count": 26,
     "metadata": {},
     "output_type": "execute_result"
    }
   ],
   "source": [
    "loan_data.groupby('Loan.Purpose')['Interest.Rate'].mean().round()"
   ]
  },
  {
   "cell_type": "markdown",
   "metadata": {},
   "source": [
    "Let's see how many effective categories this grouping provides us"
   ]
  },
  {
   "cell_type": "code",
   "execution_count": 27,
   "metadata": {},
   "outputs": [
    {
     "data": {
      "text/plain": [
       "12.0    4\n",
       "13.0    4\n",
       "11.0    3\n",
       "14.0    2\n",
       "10.0    1\n",
       "Name: Interest.Rate, dtype: int64"
      ]
     },
     "execution_count": 27,
     "metadata": {},
     "output_type": "execute_result"
    }
   ],
   "source": [
    "loan_data.groupby('Loan.Purpose')['Interest.Rate'].mean().round().value_counts()"
   ]
  },
  {
   "cell_type": "markdown",
   "metadata": {},
   "source": [
    "We can see there are 4 effective categories"
   ]
  },
  {
   "cell_type": "code",
   "execution_count": 28,
   "metadata": {},
   "outputs": [],
   "source": [
    "for i in range(len(loan_data)):\n",
    "    # grouping all categories with mean value 11(received in line 25) together\n",
    "    if loan_data.loc[i]['Loan.Purpose'] in ['car','educational','major_purchase']:\n",
    "        loan_data.loc[i,'Loan.Purpose']='cem'\n",
    "    # grouping all categories with mean value 12(received in line 25) together\n",
    "    if loan_data.loc[i]['Loan.Purpose'] in  ['home_improvement','medical','vacation',\n",
    "                                             'wedding']:\n",
    "        loan_data.loc[i,'Loan.Purpose']='hmvw'\n",
    "    # grouping all categories with mean value 13(received in line 25) together\n",
    "    if loan_data.loc[i]['Loan.Purpose'] in ['credit_card','house','other',\n",
    "                                            'small_business']:\n",
    "        loan_data.loc[i,'Loan.Purpose'] = 'chos'\n",
    "    # grouping all categories with mean value 14 (received in line 25) together\n",
    "    if loan_data.loc[i]['Loan.Purpose'] in ['debt_consolidation','moving']:\n",
    "        loan_data.loc[i,'Loan.Purpose']='dm'"
   ]
  },
  {
   "cell_type": "code",
   "execution_count": 29,
   "metadata": {},
   "outputs": [
    {
     "data": {
      "text/plain": [
       "0      dm\n",
       "1      dm\n",
       "2      dm\n",
       "3      dm\n",
       "4    chos\n",
       "Name: Loan.Purpose, dtype: object"
      ]
     },
     "execution_count": 29,
     "metadata": {},
     "output_type": "execute_result"
    }
   ],
   "source": [
    "loan_data['Loan.Purpose'].head()"
   ]
  },
  {
   "cell_type": "markdown",
   "metadata": {},
   "source": [
    "As we can see, we have effectively combined the 13 out of 14 categories into 4 categories. \n",
    "\n",
    "We have not included the category 'renewable_energy' in this grouping because it had only 4 occurences in the entire data frame. "
   ]
  },
  {
   "cell_type": "markdown",
   "metadata": {},
   "source": [
    "Now, let's create dummies for the variable Loan.Purpose"
   ]
  },
  {
   "cell_type": "code",
   "execution_count": 30,
   "metadata": {},
   "outputs": [],
   "source": [
    "loan_data_dummies = pd.get_dummies(loan_data['Loan.Purpose'], prefix='lp')"
   ]
  },
  {
   "cell_type": "code",
   "execution_count": 31,
   "metadata": {
    "scrolled": true
   },
   "outputs": [
    {
     "data": {
      "text/html": [
       "<div>\n",
       "<style scoped>\n",
       "    .dataframe tbody tr th:only-of-type {\n",
       "        vertical-align: middle;\n",
       "    }\n",
       "\n",
       "    .dataframe tbody tr th {\n",
       "        vertical-align: top;\n",
       "    }\n",
       "\n",
       "    .dataframe thead th {\n",
       "        text-align: right;\n",
       "    }\n",
       "</style>\n",
       "<table border=\"1\" class=\"dataframe\">\n",
       "  <thead>\n",
       "    <tr style=\"text-align: right;\">\n",
       "      <th></th>\n",
       "      <th>lp_cem</th>\n",
       "      <th>lp_chos</th>\n",
       "      <th>lp_dm</th>\n",
       "      <th>lp_hmvw</th>\n",
       "      <th>lp_renewable_energy</th>\n",
       "    </tr>\n",
       "  </thead>\n",
       "  <tbody>\n",
       "    <tr>\n",
       "      <th>0</th>\n",
       "      <td>0</td>\n",
       "      <td>0</td>\n",
       "      <td>1</td>\n",
       "      <td>0</td>\n",
       "      <td>0</td>\n",
       "    </tr>\n",
       "    <tr>\n",
       "      <th>1</th>\n",
       "      <td>0</td>\n",
       "      <td>0</td>\n",
       "      <td>1</td>\n",
       "      <td>0</td>\n",
       "      <td>0</td>\n",
       "    </tr>\n",
       "    <tr>\n",
       "      <th>2</th>\n",
       "      <td>0</td>\n",
       "      <td>0</td>\n",
       "      <td>1</td>\n",
       "      <td>0</td>\n",
       "      <td>0</td>\n",
       "    </tr>\n",
       "    <tr>\n",
       "      <th>3</th>\n",
       "      <td>0</td>\n",
       "      <td>0</td>\n",
       "      <td>1</td>\n",
       "      <td>0</td>\n",
       "      <td>0</td>\n",
       "    </tr>\n",
       "    <tr>\n",
       "      <th>4</th>\n",
       "      <td>0</td>\n",
       "      <td>1</td>\n",
       "      <td>0</td>\n",
       "      <td>0</td>\n",
       "      <td>0</td>\n",
       "    </tr>\n",
       "  </tbody>\n",
       "</table>\n",
       "</div>"
      ],
      "text/plain": [
       "   lp_cem  lp_chos  lp_dm  lp_hmvw  lp_renewable_energy\n",
       "0       0        0      1        0                    0\n",
       "1       0        0      1        0                    0\n",
       "2       0        0      1        0                    0\n",
       "3       0        0      1        0                    0\n",
       "4       0        1      0        0                    0"
      ]
     },
     "execution_count": 31,
     "metadata": {},
     "output_type": "execute_result"
    }
   ],
   "source": [
    "loan_data_dummies.head()"
   ]
  },
  {
   "cell_type": "markdown",
   "metadata": {},
   "source": [
    "As we can see we have a dummy variable for 'renewable_energy'. Since we don't need it we can drop this variable and also the original variable 'Loan.Purpose'. But before that let's just concatanate \n",
    "the dummy variables to the original dataframe. "
   ]
  },
  {
   "cell_type": "code",
   "execution_count": 32,
   "metadata": {},
   "outputs": [],
   "source": [
    "loan_data = loan_data.join(loan_data_dummies)"
   ]
  },
  {
   "cell_type": "markdown",
   "metadata": {},
   "source": [
    "Now, let's drop the variables 'Loan.Purpose' and 'lp_renewable_energy'"
   ]
  },
  {
   "cell_type": "code",
   "execution_count": 33,
   "metadata": {},
   "outputs": [],
   "source": [
    "loan_data.drop(['Loan.Purpose','lp_renewable_energy'], axis=1, inplace=True)"
   ]
  },
  {
   "cell_type": "markdown",
   "metadata": {},
   "source": [
    "Now let's check tha variable 'state'"
   ]
  },
  {
   "cell_type": "code",
   "execution_count": 34,
   "metadata": {},
   "outputs": [
    {
     "data": {
      "text/plain": [
       "CA    433\n",
       "NY    255\n",
       "TX    174\n",
       "FL    169\n",
       "IL    101\n",
       "GA     97\n",
       "PA     96\n",
       "NJ     94\n",
       "VA     78\n",
       "MA     73\n",
       "OH     71\n",
       "MD     68\n",
       "NC     64\n",
       "CO     61\n",
       "WA     58\n",
       "CT     50\n",
       "AZ     46\n",
       "MI     45\n",
       "MN     38\n",
       "AL     38\n",
       "MO     33\n",
       "NV     32\n",
       "OR     30\n",
       "SC     28\n",
       "WI     26\n",
       "KY     23\n",
       "LA     22\n",
       "OK     21\n",
       "KS     21\n",
       "UT     16\n",
       "RI     15\n",
       "NH     15\n",
       "WV     14\n",
       "AR     13\n",
       "NM     13\n",
       "HI     12\n",
       "DC     11\n",
       "AK     11\n",
       "DE      8\n",
       "MT      7\n",
       "VT      5\n",
       "SD      4\n",
       "WY      4\n",
       "IN      3\n",
       "IA      1\n",
       ".       1\n",
       "MS      1\n",
       "Name: State, dtype: int64"
      ]
     },
     "execution_count": 34,
     "metadata": {},
     "output_type": "execute_result"
    }
   ],
   "source": [
    "loan_data['State'].value_counts()"
   ]
  },
  {
   "cell_type": "markdown",
   "metadata": {},
   "source": [
    "There are too many states. Let's check how many unique values this variable has. "
   ]
  },
  {
   "cell_type": "code",
   "execution_count": 35,
   "metadata": {},
   "outputs": [
    {
     "data": {
      "text/plain": [
       "47"
      ]
     },
     "execution_count": 35,
     "metadata": {},
     "output_type": "execute_result"
    }
   ],
   "source": [
    "loan_data['State'].nunique()"
   ]
  },
  {
   "cell_type": "markdown",
   "metadata": {},
   "source": [
    "There are 47 unique values in this variable, so for now, let's decide to drop this variable altogether. Although we don't have a reason to drop this variable, we will just to do that to reduce the amount of data preperation needed for now. \n",
    "We can add this variable later if needed. "
   ]
  },
  {
   "cell_type": "code",
   "execution_count": 36,
   "metadata": {},
   "outputs": [],
   "source": [
    "loan_data.drop(labels='State',axis=1,inplace=True)"
   ]
  },
  {
   "cell_type": "code",
   "execution_count": 37,
   "metadata": {},
   "outputs": [
    {
     "data": {
      "text/plain": [
       "Index(['Home.Ownership', 'FICO.Range', 'Employment.Length'], dtype='object')"
      ]
     },
     "execution_count": 37,
     "metadata": {},
     "output_type": "execute_result"
    }
   ],
   "source": [
    "loan_data.columns[loan_data.dtypes=='object']"
   ]
  },
  {
   "cell_type": "markdown",
   "metadata": {},
   "source": [
    "We have effectively reduced 6 'object' variables to 3. Let's go further and work with the other 3 variables."
   ]
  },
  {
   "cell_type": "markdown",
   "metadata": {},
   "source": [
    "Let's process the variable 'Home.Ownership'"
   ]
  },
  {
   "cell_type": "code",
   "execution_count": 38,
   "metadata": {},
   "outputs": [
    {
     "data": {
      "text/plain": [
       "MORTGAGE    1147\n",
       "RENT        1146\n",
       "OWN          200\n",
       "OTHER          5\n",
       "NONE           1\n",
       "Name: Home.Ownership, dtype: int64"
      ]
     },
     "execution_count": 38,
     "metadata": {},
     "output_type": "execute_result"
    }
   ],
   "source": [
    "loan_data['Home.Ownership'].value_counts()"
   ]
  },
  {
   "cell_type": "markdown",
   "metadata": {},
   "source": [
    "Here we can simply ignore the categories 'OTHER' and 'NONE' and create dummy variables for the remaing 3 categories"
   ]
  },
  {
   "cell_type": "code",
   "execution_count": 39,
   "metadata": {},
   "outputs": [],
   "source": [
    "loan_data['ho_mortgage'] = np.where(loan_data['Home.Ownership']=='MORTGAGE',1,0)\n",
    "loan_data['ho_rent'] = np.where(loan_data['Home.Ownership']== 'RENT',1,0)"
   ]
  },
  {
   "cell_type": "code",
   "execution_count": 40,
   "metadata": {},
   "outputs": [
    {
     "data": {
      "text/html": [
       "<div>\n",
       "<style scoped>\n",
       "    .dataframe tbody tr th:only-of-type {\n",
       "        vertical-align: middle;\n",
       "    }\n",
       "\n",
       "    .dataframe tbody tr th {\n",
       "        vertical-align: top;\n",
       "    }\n",
       "\n",
       "    .dataframe thead th {\n",
       "        text-align: right;\n",
       "    }\n",
       "</style>\n",
       "<table border=\"1\" class=\"dataframe\">\n",
       "  <thead>\n",
       "    <tr style=\"text-align: right;\">\n",
       "      <th></th>\n",
       "      <th>ID</th>\n",
       "      <th>Amount.Requested</th>\n",
       "      <th>Amount.Funded.By.Investors</th>\n",
       "      <th>Interest.Rate</th>\n",
       "      <th>Debt.To.Income.Ratio</th>\n",
       "      <th>Home.Ownership</th>\n",
       "      <th>Monthly.Income</th>\n",
       "      <th>FICO.Range</th>\n",
       "      <th>Open.CREDIT.Lines</th>\n",
       "      <th>Revolving.CREDIT.Balance</th>\n",
       "      <th>Inquiries.in.the.Last.6.Months</th>\n",
       "      <th>Employment.Length</th>\n",
       "      <th>Loan_lenght_36</th>\n",
       "      <th>lp_cem</th>\n",
       "      <th>lp_chos</th>\n",
       "      <th>lp_dm</th>\n",
       "      <th>lp_hmvw</th>\n",
       "      <th>ho_mortgage</th>\n",
       "      <th>ho_rent</th>\n",
       "    </tr>\n",
       "  </thead>\n",
       "  <tbody>\n",
       "    <tr>\n",
       "      <th>0</th>\n",
       "      <td>81174.0</td>\n",
       "      <td>20000.0</td>\n",
       "      <td>20000.0</td>\n",
       "      <td>8.90</td>\n",
       "      <td>14.90</td>\n",
       "      <td>MORTGAGE</td>\n",
       "      <td>6541.67</td>\n",
       "      <td>735-739</td>\n",
       "      <td>14.0</td>\n",
       "      <td>14272.0</td>\n",
       "      <td>2.0</td>\n",
       "      <td>&lt; 1 year</td>\n",
       "      <td>1</td>\n",
       "      <td>0</td>\n",
       "      <td>0</td>\n",
       "      <td>1</td>\n",
       "      <td>0</td>\n",
       "      <td>1</td>\n",
       "      <td>0</td>\n",
       "    </tr>\n",
       "    <tr>\n",
       "      <th>1</th>\n",
       "      <td>99592.0</td>\n",
       "      <td>19200.0</td>\n",
       "      <td>19200.0</td>\n",
       "      <td>12.12</td>\n",
       "      <td>28.36</td>\n",
       "      <td>MORTGAGE</td>\n",
       "      <td>4583.33</td>\n",
       "      <td>715-719</td>\n",
       "      <td>12.0</td>\n",
       "      <td>11140.0</td>\n",
       "      <td>1.0</td>\n",
       "      <td>2 years</td>\n",
       "      <td>1</td>\n",
       "      <td>0</td>\n",
       "      <td>0</td>\n",
       "      <td>1</td>\n",
       "      <td>0</td>\n",
       "      <td>1</td>\n",
       "      <td>0</td>\n",
       "    </tr>\n",
       "    <tr>\n",
       "      <th>2</th>\n",
       "      <td>80059.0</td>\n",
       "      <td>35000.0</td>\n",
       "      <td>35000.0</td>\n",
       "      <td>21.98</td>\n",
       "      <td>23.81</td>\n",
       "      <td>MORTGAGE</td>\n",
       "      <td>11500.00</td>\n",
       "      <td>690-694</td>\n",
       "      <td>14.0</td>\n",
       "      <td>21977.0</td>\n",
       "      <td>1.0</td>\n",
       "      <td>2 years</td>\n",
       "      <td>0</td>\n",
       "      <td>0</td>\n",
       "      <td>0</td>\n",
       "      <td>1</td>\n",
       "      <td>0</td>\n",
       "      <td>1</td>\n",
       "      <td>0</td>\n",
       "    </tr>\n",
       "    <tr>\n",
       "      <th>3</th>\n",
       "      <td>15825.0</td>\n",
       "      <td>10000.0</td>\n",
       "      <td>9975.0</td>\n",
       "      <td>9.99</td>\n",
       "      <td>14.30</td>\n",
       "      <td>MORTGAGE</td>\n",
       "      <td>3833.33</td>\n",
       "      <td>695-699</td>\n",
       "      <td>10.0</td>\n",
       "      <td>9346.0</td>\n",
       "      <td>0.0</td>\n",
       "      <td>5 years</td>\n",
       "      <td>1</td>\n",
       "      <td>0</td>\n",
       "      <td>0</td>\n",
       "      <td>1</td>\n",
       "      <td>0</td>\n",
       "      <td>1</td>\n",
       "      <td>0</td>\n",
       "    </tr>\n",
       "    <tr>\n",
       "      <th>4</th>\n",
       "      <td>33182.0</td>\n",
       "      <td>12000.0</td>\n",
       "      <td>12000.0</td>\n",
       "      <td>11.71</td>\n",
       "      <td>18.78</td>\n",
       "      <td>RENT</td>\n",
       "      <td>3195.00</td>\n",
       "      <td>695-699</td>\n",
       "      <td>11.0</td>\n",
       "      <td>14469.0</td>\n",
       "      <td>0.0</td>\n",
       "      <td>9 years</td>\n",
       "      <td>1</td>\n",
       "      <td>0</td>\n",
       "      <td>1</td>\n",
       "      <td>0</td>\n",
       "      <td>0</td>\n",
       "      <td>0</td>\n",
       "      <td>1</td>\n",
       "    </tr>\n",
       "  </tbody>\n",
       "</table>\n",
       "</div>"
      ],
      "text/plain": [
       "        ID  Amount.Requested  Amount.Funded.By.Investors  Interest.Rate  \\\n",
       "0  81174.0           20000.0                     20000.0           8.90   \n",
       "1  99592.0           19200.0                     19200.0          12.12   \n",
       "2  80059.0           35000.0                     35000.0          21.98   \n",
       "3  15825.0           10000.0                      9975.0           9.99   \n",
       "4  33182.0           12000.0                     12000.0          11.71   \n",
       "\n",
       "   Debt.To.Income.Ratio Home.Ownership  Monthly.Income FICO.Range  \\\n",
       "0                 14.90       MORTGAGE         6541.67    735-739   \n",
       "1                 28.36       MORTGAGE         4583.33    715-719   \n",
       "2                 23.81       MORTGAGE        11500.00    690-694   \n",
       "3                 14.30       MORTGAGE         3833.33    695-699   \n",
       "4                 18.78           RENT         3195.00    695-699   \n",
       "\n",
       "   Open.CREDIT.Lines  Revolving.CREDIT.Balance  \\\n",
       "0               14.0                   14272.0   \n",
       "1               12.0                   11140.0   \n",
       "2               14.0                   21977.0   \n",
       "3               10.0                    9346.0   \n",
       "4               11.0                   14469.0   \n",
       "\n",
       "   Inquiries.in.the.Last.6.Months Employment.Length  Loan_lenght_36  lp_cem  \\\n",
       "0                             2.0          < 1 year               1       0   \n",
       "1                             1.0           2 years               1       0   \n",
       "2                             1.0           2 years               0       0   \n",
       "3                             0.0           5 years               1       0   \n",
       "4                             0.0           9 years               1       0   \n",
       "\n",
       "   lp_chos  lp_dm  lp_hmvw  ho_mortgage  ho_rent  \n",
       "0        0      1        0            1        0  \n",
       "1        0      1        0            1        0  \n",
       "2        0      1        0            1        0  \n",
       "3        0      1        0            1        0  \n",
       "4        1      0        0            0        1  "
      ]
     },
     "execution_count": 40,
     "metadata": {},
     "output_type": "execute_result"
    }
   ],
   "source": [
    "loan_data.head()"
   ]
  },
  {
   "cell_type": "markdown",
   "metadata": {},
   "source": [
    "Now that we have created dummy variables for 'Home.Ownership' we can go ahead and drop that variable. "
   ]
  },
  {
   "cell_type": "code",
   "execution_count": 41,
   "metadata": {},
   "outputs": [],
   "source": [
    "loan_data.drop(labels='Home.Ownership',axis=1, inplace=True)"
   ]
  },
  {
   "cell_type": "code",
   "execution_count": 42,
   "metadata": {},
   "outputs": [
    {
     "data": {
      "text/plain": [
       "Index(['FICO.Range', 'Employment.Length'], dtype='object')"
      ]
     },
     "execution_count": 42,
     "metadata": {},
     "output_type": "execute_result"
    }
   ],
   "source": [
    "loan_data.columns[loan_data.dtypes=='object']"
   ]
  },
  {
   "cell_type": "markdown",
   "metadata": {},
   "source": [
    "Let's deal with the variable 'FICO.Range' next"
   ]
  },
  {
   "cell_type": "code",
   "execution_count": 43,
   "metadata": {},
   "outputs": [
    {
     "data": {
      "text/plain": [
       "0    735-739\n",
       "1    715-719\n",
       "2    690-694\n",
       "3    695-699\n",
       "4    695-699\n",
       "Name: FICO.Range, dtype: object"
      ]
     },
     "execution_count": 43,
     "metadata": {},
     "output_type": "execute_result"
    }
   ],
   "source": [
    "loan_data['FICO.Range'].head()"
   ]
  },
  {
   "cell_type": "markdown",
   "metadata": {},
   "source": [
    "Since this variable has a range, one easy way is to replace each value with the average of the range.\n",
    "\n",
    "In order to do that, \n",
    "1. first let's split each value in the variable 'FICO.Range' on the hyphen('-') in the middle of the value. \n",
    "2. Then let's put the first part of the split result (which will be the lower limit) in a list called 'lower_limit' and the second part of the split result (which will be the upper limit) in a list called 'upper_limit'. \n",
    "3. Finally let's slice the lower and upper limit values from each list then find the average of these and insert them in a new variable called 'fico' in the original dataframe 'loan_data'\n"
   ]
  },
  {
   "cell_type": "code",
   "execution_count": 44,
   "metadata": {},
   "outputs": [],
   "source": [
    "lower_limit=[]\n",
    "upper_limit=[]\n",
    "for i in range(len(loan_data)):\n",
    "    lower_limit.append(int(loan_data['FICO.Range'][i].split('-')[0]))\n",
    "    upper_limit.append(int(loan_data['FICO.Range'][i].split('-')[1]))\n",
    "#splitting the column on '-' and appending the results to two columns \n",
    "# called lower_limit and upper_limit \n",
    "\n",
    "for i in range(len(loan_data)):\n",
    "    loan_data.loc[i,'fico']= ((lower_limit[i]+upper_limit[i])/2)\n",
    "    \n",
    "# on a for loop we slice the values from the two lists, find their average and insert \n",
    "# them in a new column called 'fico' in the original dataframe 'loan_data'"
   ]
  },
  {
   "cell_type": "markdown",
   "metadata": {},
   "source": [
    "Now that we have created a new variable for the original variable 'FICO.Range' containing the average value of the range, we can drop the original variable 'FICO.Range' and the temproary lists 'lower_limit' and 'upper_limit'. "
   ]
  },
  {
   "cell_type": "code",
   "execution_count": 45,
   "metadata": {},
   "outputs": [
    {
     "name": "stdout",
     "output_type": "stream",
     "text": [
      "Once deleted, variables cannot be recovered. Proceed (y/[n])?  y\n"
     ]
    }
   ],
   "source": [
    "loan_data.drop(labels='FICO.Range', axis=1, inplace=True)\n",
    "%reset_selective lower_limit, upper_limit"
   ]
  },
  {
   "cell_type": "code",
   "execution_count": 46,
   "metadata": {},
   "outputs": [
    {
     "data": {
      "text/html": [
       "<div>\n",
       "<style scoped>\n",
       "    .dataframe tbody tr th:only-of-type {\n",
       "        vertical-align: middle;\n",
       "    }\n",
       "\n",
       "    .dataframe tbody tr th {\n",
       "        vertical-align: top;\n",
       "    }\n",
       "\n",
       "    .dataframe thead th {\n",
       "        text-align: right;\n",
       "    }\n",
       "</style>\n",
       "<table border=\"1\" class=\"dataframe\">\n",
       "  <thead>\n",
       "    <tr style=\"text-align: right;\">\n",
       "      <th></th>\n",
       "      <th>ID</th>\n",
       "      <th>Amount.Requested</th>\n",
       "      <th>Amount.Funded.By.Investors</th>\n",
       "      <th>Interest.Rate</th>\n",
       "      <th>Debt.To.Income.Ratio</th>\n",
       "      <th>Monthly.Income</th>\n",
       "      <th>Open.CREDIT.Lines</th>\n",
       "      <th>Revolving.CREDIT.Balance</th>\n",
       "      <th>Inquiries.in.the.Last.6.Months</th>\n",
       "      <th>Employment.Length</th>\n",
       "      <th>Loan_lenght_36</th>\n",
       "      <th>lp_cem</th>\n",
       "      <th>lp_chos</th>\n",
       "      <th>lp_dm</th>\n",
       "      <th>lp_hmvw</th>\n",
       "      <th>ho_mortgage</th>\n",
       "      <th>ho_rent</th>\n",
       "      <th>fico</th>\n",
       "    </tr>\n",
       "  </thead>\n",
       "  <tbody>\n",
       "    <tr>\n",
       "      <th>0</th>\n",
       "      <td>81174.0</td>\n",
       "      <td>20000.0</td>\n",
       "      <td>20000.0</td>\n",
       "      <td>8.90</td>\n",
       "      <td>14.90</td>\n",
       "      <td>6541.67</td>\n",
       "      <td>14.0</td>\n",
       "      <td>14272.0</td>\n",
       "      <td>2.0</td>\n",
       "      <td>&lt; 1 year</td>\n",
       "      <td>1</td>\n",
       "      <td>0</td>\n",
       "      <td>0</td>\n",
       "      <td>1</td>\n",
       "      <td>0</td>\n",
       "      <td>1</td>\n",
       "      <td>0</td>\n",
       "      <td>737.0</td>\n",
       "    </tr>\n",
       "    <tr>\n",
       "      <th>1</th>\n",
       "      <td>99592.0</td>\n",
       "      <td>19200.0</td>\n",
       "      <td>19200.0</td>\n",
       "      <td>12.12</td>\n",
       "      <td>28.36</td>\n",
       "      <td>4583.33</td>\n",
       "      <td>12.0</td>\n",
       "      <td>11140.0</td>\n",
       "      <td>1.0</td>\n",
       "      <td>2 years</td>\n",
       "      <td>1</td>\n",
       "      <td>0</td>\n",
       "      <td>0</td>\n",
       "      <td>1</td>\n",
       "      <td>0</td>\n",
       "      <td>1</td>\n",
       "      <td>0</td>\n",
       "      <td>717.0</td>\n",
       "    </tr>\n",
       "    <tr>\n",
       "      <th>2</th>\n",
       "      <td>80059.0</td>\n",
       "      <td>35000.0</td>\n",
       "      <td>35000.0</td>\n",
       "      <td>21.98</td>\n",
       "      <td>23.81</td>\n",
       "      <td>11500.00</td>\n",
       "      <td>14.0</td>\n",
       "      <td>21977.0</td>\n",
       "      <td>1.0</td>\n",
       "      <td>2 years</td>\n",
       "      <td>0</td>\n",
       "      <td>0</td>\n",
       "      <td>0</td>\n",
       "      <td>1</td>\n",
       "      <td>0</td>\n",
       "      <td>1</td>\n",
       "      <td>0</td>\n",
       "      <td>692.0</td>\n",
       "    </tr>\n",
       "    <tr>\n",
       "      <th>3</th>\n",
       "      <td>15825.0</td>\n",
       "      <td>10000.0</td>\n",
       "      <td>9975.0</td>\n",
       "      <td>9.99</td>\n",
       "      <td>14.30</td>\n",
       "      <td>3833.33</td>\n",
       "      <td>10.0</td>\n",
       "      <td>9346.0</td>\n",
       "      <td>0.0</td>\n",
       "      <td>5 years</td>\n",
       "      <td>1</td>\n",
       "      <td>0</td>\n",
       "      <td>0</td>\n",
       "      <td>1</td>\n",
       "      <td>0</td>\n",
       "      <td>1</td>\n",
       "      <td>0</td>\n",
       "      <td>697.0</td>\n",
       "    </tr>\n",
       "    <tr>\n",
       "      <th>4</th>\n",
       "      <td>33182.0</td>\n",
       "      <td>12000.0</td>\n",
       "      <td>12000.0</td>\n",
       "      <td>11.71</td>\n",
       "      <td>18.78</td>\n",
       "      <td>3195.00</td>\n",
       "      <td>11.0</td>\n",
       "      <td>14469.0</td>\n",
       "      <td>0.0</td>\n",
       "      <td>9 years</td>\n",
       "      <td>1</td>\n",
       "      <td>0</td>\n",
       "      <td>1</td>\n",
       "      <td>0</td>\n",
       "      <td>0</td>\n",
       "      <td>0</td>\n",
       "      <td>1</td>\n",
       "      <td>697.0</td>\n",
       "    </tr>\n",
       "  </tbody>\n",
       "</table>\n",
       "</div>"
      ],
      "text/plain": [
       "        ID  Amount.Requested  Amount.Funded.By.Investors  Interest.Rate  \\\n",
       "0  81174.0           20000.0                     20000.0           8.90   \n",
       "1  99592.0           19200.0                     19200.0          12.12   \n",
       "2  80059.0           35000.0                     35000.0          21.98   \n",
       "3  15825.0           10000.0                      9975.0           9.99   \n",
       "4  33182.0           12000.0                     12000.0          11.71   \n",
       "\n",
       "   Debt.To.Income.Ratio  Monthly.Income  Open.CREDIT.Lines  \\\n",
       "0                 14.90         6541.67               14.0   \n",
       "1                 28.36         4583.33               12.0   \n",
       "2                 23.81        11500.00               14.0   \n",
       "3                 14.30         3833.33               10.0   \n",
       "4                 18.78         3195.00               11.0   \n",
       "\n",
       "   Revolving.CREDIT.Balance  Inquiries.in.the.Last.6.Months Employment.Length  \\\n",
       "0                   14272.0                             2.0          < 1 year   \n",
       "1                   11140.0                             1.0           2 years   \n",
       "2                   21977.0                             1.0           2 years   \n",
       "3                    9346.0                             0.0           5 years   \n",
       "4                   14469.0                             0.0           9 years   \n",
       "\n",
       "   Loan_lenght_36  lp_cem  lp_chos  lp_dm  lp_hmvw  ho_mortgage  ho_rent  \\\n",
       "0               1       0        0      1        0            1        0   \n",
       "1               1       0        0      1        0            1        0   \n",
       "2               0       0        0      1        0            1        0   \n",
       "3               1       0        0      1        0            1        0   \n",
       "4               1       0        1      0        0            0        1   \n",
       "\n",
       "    fico  \n",
       "0  737.0  \n",
       "1  717.0  \n",
       "2  692.0  \n",
       "3  697.0  \n",
       "4  697.0  "
      ]
     },
     "execution_count": 46,
     "metadata": {},
     "output_type": "execute_result"
    }
   ],
   "source": [
    "loan_data.head()"
   ]
  },
  {
   "cell_type": "code",
   "execution_count": 47,
   "metadata": {},
   "outputs": [
    {
     "data": {
      "text/plain": [
       "Index(['Employment.Length'], dtype='object')"
      ]
     },
     "execution_count": 47,
     "metadata": {},
     "output_type": "execute_result"
    }
   ],
   "source": [
    "loan_data.columns[loan_data.dtypes=='object']"
   ]
  },
  {
   "cell_type": "markdown",
   "metadata": {},
   "source": [
    "The only remaining 'object' column is 'Employment.Length'. Let's deal with that now. "
   ]
  },
  {
   "cell_type": "code",
   "execution_count": 48,
   "metadata": {},
   "outputs": [
    {
     "data": {
      "text/plain": [
       "10+ years    653\n",
       "< 1 year     249\n",
       "2 years      243\n",
       "3 years      235\n",
       "5 years      202\n",
       "4 years      191\n",
       "1 year       177\n",
       "6 years      163\n",
       "7 years      127\n",
       "8 years      108\n",
       "9 years       72\n",
       ".              2\n",
       "Name: Employment.Length, dtype: int64"
      ]
     },
     "execution_count": 48,
     "metadata": {},
     "output_type": "execute_result"
    }
   ],
   "source": [
    "loan_data['Employment.Length'].value_counts()"
   ]
  },
  {
   "cell_type": "markdown",
   "metadata": {},
   "source": [
    "Let's first fix remove the words 'years' and 'year' from the variable. "
   ]
  },
  {
   "cell_type": "code",
   "execution_count": 49,
   "metadata": {},
   "outputs": [],
   "source": [
    "loan_data['Employment.Length'] = loan_data['Employment.Length'].astype('str')\n",
    "    # first let's convert the variable to string datatype so that removing words and letters will\n",
    "    # be easy\n",
    "\n",
    "loan_data['Employment.Length'] = [x.replace('years','') for x in\n",
    "                                  loan_data['Employment.Length']]\n",
    "loan_data['Employment.Length'] = [x.replace('year', '') for x in \n",
    "                                  loan_data['Employment.Length']]"
   ]
  },
  {
   "cell_type": "code",
   "execution_count": 50,
   "metadata": {},
   "outputs": [
    {
     "data": {
      "text/plain": [
       "10+     653\n",
       "< 1     249\n",
       "2       243\n",
       "3       235\n",
       "5       202\n",
       "4       191\n",
       "1       177\n",
       "6       163\n",
       "7       127\n",
       "8       108\n",
       "nan      78\n",
       "9        72\n",
       ".         2\n",
       "Name: Employment.Length, dtype: int64"
      ]
     },
     "execution_count": 50,
     "metadata": {},
     "output_type": "execute_result"
    }
   ],
   "source": [
    "loan_data['Employment.Length'].value_counts()"
   ]
  },
  {
   "cell_type": "markdown",
   "metadata": {},
   "source": [
    "Now let's group this variable with the response variable 'Interest.Rate' so we can combine categories togther"
   ]
  },
  {
   "cell_type": "code",
   "execution_count": 51,
   "metadata": {},
   "outputs": [
    {
     "data": {
      "text/plain": [
       "Employment.Length\n",
       ".       11.34\n",
       "1       12.49\n",
       "10+     13.34\n",
       "2       12.87\n",
       "3       12.77\n",
       "4       13.14\n",
       "5       13.40\n",
       "6       13.29\n",
       "7       13.10\n",
       "8       13.01\n",
       "9       13.15\n",
       "< 1     12.86\n",
       "nan     12.78\n",
       "Name: Interest.Rate, dtype: float64"
      ]
     },
     "execution_count": 51,
     "metadata": {},
     "output_type": "execute_result"
    }
   ],
   "source": [
    "loan_data.groupby('Employment.Length')['Interest.Rate'].mean().round(2)"
   ]
  },
  {
   "cell_type": "markdown",
   "metadata": {},
   "source": [
    "1. As we can see, 'nan' and '<1' are similar to each other in mean. so we can compare them together. \n",
    "2. '<1' means 0, so we can replace that with 0. \n",
    "3. '10+' can be replaced by 10. "
   ]
  },
  {
   "cell_type": "code",
   "execution_count": 52,
   "metadata": {},
   "outputs": [],
   "source": [
    "loan_data['Employment.Length']=[x.replace('nan','< 1') for x in\n",
    "                                loan_data['Employment.Length']]\n",
    "loan_data['Employment.Length']=[x.replace('10+','10') for x in\n",
    "                                loan_data['Employment.Length']]\n",
    "loan_data['Employment.Length']=[x.replace('< 1','0') for x in\n",
    "                                loan_data['Employment.Length']]\n",
    "loan_data['Employment.Length']=pd.to_numeric(loan_data['Employment.Length'],\n",
    "                                             errors='coerce')"
   ]
  },
  {
   "cell_type": "code",
   "execution_count": 53,
   "metadata": {},
   "outputs": [
    {
     "data": {
      "text/plain": [
       "0    0.0\n",
       "1    2.0\n",
       "2    2.0\n",
       "3    5.0\n",
       "4    9.0\n",
       "Name: Employment.Length, dtype: float64"
      ]
     },
     "execution_count": 53,
     "metadata": {},
     "output_type": "execute_result"
    }
   ],
   "source": [
    "loan_data['Employment.Length'].head()"
   ]
  },
  {
   "cell_type": "code",
   "execution_count": 54,
   "metadata": {},
   "outputs": [
    {
     "data": {
      "text/plain": [
       "ID                                float64\n",
       "Amount.Requested                  float64\n",
       "Amount.Funded.By.Investors        float64\n",
       "Interest.Rate                     float64\n",
       "Debt.To.Income.Ratio              float64\n",
       "Monthly.Income                    float64\n",
       "Open.CREDIT.Lines                 float64\n",
       "Revolving.CREDIT.Balance          float64\n",
       "Inquiries.in.the.Last.6.Months    float64\n",
       "Employment.Length                 float64\n",
       "Loan_lenght_36                      uint8\n",
       "lp_cem                              uint8\n",
       "lp_chos                             uint8\n",
       "lp_dm                               uint8\n",
       "lp_hmvw                             uint8\n",
       "ho_mortgage                         int32\n",
       "ho_rent                             int32\n",
       "fico                              float64\n",
       "dtype: object"
      ]
     },
     "execution_count": 54,
     "metadata": {},
     "output_type": "execute_result"
    }
   ],
   "source": [
    "loan_data.dtypes"
   ]
  },
  {
   "cell_type": "markdown",
   "metadata": {},
   "source": [
    "Now, all our variables are numeric. \n",
    "We can also drop the variable 'ID' because it's the identity number for every person and doesn't solve any real purpose. "
   ]
  },
  {
   "cell_type": "code",
   "execution_count": 55,
   "metadata": {},
   "outputs": [],
   "source": [
    "loan_data.drop(labels='ID',axis=1,inplace=True)"
   ]
  },
  {
   "cell_type": "code",
   "execution_count": 56,
   "metadata": {},
   "outputs": [
    {
     "data": {
      "text/html": [
       "<div>\n",
       "<style scoped>\n",
       "    .dataframe tbody tr th:only-of-type {\n",
       "        vertical-align: middle;\n",
       "    }\n",
       "\n",
       "    .dataframe tbody tr th {\n",
       "        vertical-align: top;\n",
       "    }\n",
       "\n",
       "    .dataframe thead th {\n",
       "        text-align: right;\n",
       "    }\n",
       "</style>\n",
       "<table border=\"1\" class=\"dataframe\">\n",
       "  <thead>\n",
       "    <tr style=\"text-align: right;\">\n",
       "      <th></th>\n",
       "      <th>Amount.Requested</th>\n",
       "      <th>Amount.Funded.By.Investors</th>\n",
       "      <th>Interest.Rate</th>\n",
       "      <th>Debt.To.Income.Ratio</th>\n",
       "      <th>Monthly.Income</th>\n",
       "      <th>Open.CREDIT.Lines</th>\n",
       "      <th>Revolving.CREDIT.Balance</th>\n",
       "      <th>Inquiries.in.the.Last.6.Months</th>\n",
       "      <th>Employment.Length</th>\n",
       "      <th>Loan_lenght_36</th>\n",
       "      <th>lp_cem</th>\n",
       "      <th>lp_chos</th>\n",
       "      <th>lp_dm</th>\n",
       "      <th>lp_hmvw</th>\n",
       "      <th>ho_mortgage</th>\n",
       "      <th>ho_rent</th>\n",
       "      <th>fico</th>\n",
       "    </tr>\n",
       "  </thead>\n",
       "  <tbody>\n",
       "    <tr>\n",
       "      <th>0</th>\n",
       "      <td>20000.0</td>\n",
       "      <td>20000.0</td>\n",
       "      <td>8.90</td>\n",
       "      <td>14.90</td>\n",
       "      <td>6541.67</td>\n",
       "      <td>14.0</td>\n",
       "      <td>14272.0</td>\n",
       "      <td>2.0</td>\n",
       "      <td>0.0</td>\n",
       "      <td>1</td>\n",
       "      <td>0</td>\n",
       "      <td>0</td>\n",
       "      <td>1</td>\n",
       "      <td>0</td>\n",
       "      <td>1</td>\n",
       "      <td>0</td>\n",
       "      <td>737.0</td>\n",
       "    </tr>\n",
       "    <tr>\n",
       "      <th>1</th>\n",
       "      <td>19200.0</td>\n",
       "      <td>19200.0</td>\n",
       "      <td>12.12</td>\n",
       "      <td>28.36</td>\n",
       "      <td>4583.33</td>\n",
       "      <td>12.0</td>\n",
       "      <td>11140.0</td>\n",
       "      <td>1.0</td>\n",
       "      <td>2.0</td>\n",
       "      <td>1</td>\n",
       "      <td>0</td>\n",
       "      <td>0</td>\n",
       "      <td>1</td>\n",
       "      <td>0</td>\n",
       "      <td>1</td>\n",
       "      <td>0</td>\n",
       "      <td>717.0</td>\n",
       "    </tr>\n",
       "    <tr>\n",
       "      <th>2</th>\n",
       "      <td>35000.0</td>\n",
       "      <td>35000.0</td>\n",
       "      <td>21.98</td>\n",
       "      <td>23.81</td>\n",
       "      <td>11500.00</td>\n",
       "      <td>14.0</td>\n",
       "      <td>21977.0</td>\n",
       "      <td>1.0</td>\n",
       "      <td>2.0</td>\n",
       "      <td>0</td>\n",
       "      <td>0</td>\n",
       "      <td>0</td>\n",
       "      <td>1</td>\n",
       "      <td>0</td>\n",
       "      <td>1</td>\n",
       "      <td>0</td>\n",
       "      <td>692.0</td>\n",
       "    </tr>\n",
       "    <tr>\n",
       "      <th>3</th>\n",
       "      <td>10000.0</td>\n",
       "      <td>9975.0</td>\n",
       "      <td>9.99</td>\n",
       "      <td>14.30</td>\n",
       "      <td>3833.33</td>\n",
       "      <td>10.0</td>\n",
       "      <td>9346.0</td>\n",
       "      <td>0.0</td>\n",
       "      <td>5.0</td>\n",
       "      <td>1</td>\n",
       "      <td>0</td>\n",
       "      <td>0</td>\n",
       "      <td>1</td>\n",
       "      <td>0</td>\n",
       "      <td>1</td>\n",
       "      <td>0</td>\n",
       "      <td>697.0</td>\n",
       "    </tr>\n",
       "    <tr>\n",
       "      <th>4</th>\n",
       "      <td>12000.0</td>\n",
       "      <td>12000.0</td>\n",
       "      <td>11.71</td>\n",
       "      <td>18.78</td>\n",
       "      <td>3195.00</td>\n",
       "      <td>11.0</td>\n",
       "      <td>14469.0</td>\n",
       "      <td>0.0</td>\n",
       "      <td>9.0</td>\n",
       "      <td>1</td>\n",
       "      <td>0</td>\n",
       "      <td>1</td>\n",
       "      <td>0</td>\n",
       "      <td>0</td>\n",
       "      <td>0</td>\n",
       "      <td>1</td>\n",
       "      <td>697.0</td>\n",
       "    </tr>\n",
       "  </tbody>\n",
       "</table>\n",
       "</div>"
      ],
      "text/plain": [
       "   Amount.Requested  Amount.Funded.By.Investors  Interest.Rate  \\\n",
       "0           20000.0                     20000.0           8.90   \n",
       "1           19200.0                     19200.0          12.12   \n",
       "2           35000.0                     35000.0          21.98   \n",
       "3           10000.0                      9975.0           9.99   \n",
       "4           12000.0                     12000.0          11.71   \n",
       "\n",
       "   Debt.To.Income.Ratio  Monthly.Income  Open.CREDIT.Lines  \\\n",
       "0                 14.90         6541.67               14.0   \n",
       "1                 28.36         4583.33               12.0   \n",
       "2                 23.81        11500.00               14.0   \n",
       "3                 14.30         3833.33               10.0   \n",
       "4                 18.78         3195.00               11.0   \n",
       "\n",
       "   Revolving.CREDIT.Balance  Inquiries.in.the.Last.6.Months  \\\n",
       "0                   14272.0                             2.0   \n",
       "1                   11140.0                             1.0   \n",
       "2                   21977.0                             1.0   \n",
       "3                    9346.0                             0.0   \n",
       "4                   14469.0                             0.0   \n",
       "\n",
       "   Employment.Length  Loan_lenght_36  lp_cem  lp_chos  lp_dm  lp_hmvw  \\\n",
       "0                0.0               1       0        0      1        0   \n",
       "1                2.0               1       0        0      1        0   \n",
       "2                2.0               0       0        0      1        0   \n",
       "3                5.0               1       0        0      1        0   \n",
       "4                9.0               1       0        1      0        0   \n",
       "\n",
       "   ho_mortgage  ho_rent   fico  \n",
       "0            1        0  737.0  \n",
       "1            1        0  717.0  \n",
       "2            1        0  692.0  \n",
       "3            1        0  697.0  \n",
       "4            0        1  697.0  "
      ]
     },
     "execution_count": 56,
     "metadata": {},
     "output_type": "execute_result"
    }
   ],
   "source": [
    "loan_data.head()"
   ]
  },
  {
   "cell_type": "code",
   "execution_count": 57,
   "metadata": {},
   "outputs": [
    {
     "data": {
      "text/plain": [
       "33"
      ]
     },
     "execution_count": 57,
     "metadata": {},
     "output_type": "execute_result"
    }
   ],
   "source": [
    "loan_data.isna().sum().sum()"
   ]
  },
  {
   "cell_type": "code",
   "execution_count": 58,
   "metadata": {},
   "outputs": [
    {
     "data": {
      "text/plain": [
       "(2500, 17)"
      ]
     },
     "execution_count": 58,
     "metadata": {},
     "output_type": "execute_result"
    }
   ],
   "source": [
    "loan_data.shape"
   ]
  },
  {
   "cell_type": "code",
   "execution_count": 59,
   "metadata": {},
   "outputs": [],
   "source": [
    "loan_data.dropna(axis=0,inplace=True)"
   ]
  },
  {
   "cell_type": "code",
   "execution_count": 60,
   "metadata": {},
   "outputs": [
    {
     "data": {
      "text/plain": [
       "(2473, 17)"
      ]
     },
     "execution_count": 60,
     "metadata": {},
     "output_type": "execute_result"
    }
   ],
   "source": [
    "loan_data.shape"
   ]
  },
  {
   "cell_type": "markdown",
   "metadata": {},
   "source": [
    "Now, let's split the data into train and test data to proceed with modelling. "
   ]
  },
  {
   "cell_type": "code",
   "execution_count": 61,
   "metadata": {},
   "outputs": [],
   "source": [
    "train_loan_data, test_loan_data = train_test_split(loan_data, test_size=0.2, \n",
    "                                                   random_state=2)"
   ]
  },
  {
   "cell_type": "code",
   "execution_count": 62,
   "metadata": {},
   "outputs": [
    {
     "data": {
      "text/plain": [
       "((1978, 17), (495, 17))"
      ]
     },
     "execution_count": 62,
     "metadata": {},
     "output_type": "execute_result"
    }
   ],
   "source": [
    "train_loan_data.shape, test_loan_data.shape"
   ]
  },
  {
   "cell_type": "markdown",
   "metadata": {},
   "source": [
    "'Interest.Rate' variable is the one we are going to predict, so let's make that the 'Y' variable in both training and test data and drop it from the X variable in both training and test data. \n",
    "\n",
    "Also the variable 'Amount.Funded.By.Investors' won't be available to us at this point in real life. So, let's drop this also from the training and test data. "
   ]
  },
  {
   "cell_type": "code",
   "execution_count": 63,
   "metadata": {},
   "outputs": [],
   "source": [
    "x_train=train_loan_data.drop(labels=['Interest.Rate','Amount.Funded.By.Investors'],\n",
    "                             axis=1)\n",
    "y_train=train_loan_data['Interest.Rate']\n",
    "x_test=test_loan_data.drop(labels=['Interest.Rate','Amount.Funded.By.Investors'],\n",
    "                           axis=1)\n",
    "y_test=test_loan_data['Interest.Rate']"
   ]
  },
  {
   "cell_type": "code",
   "execution_count": 64,
   "metadata": {},
   "outputs": [],
   "source": [
    "linreg=LinearRegression()\n",
    "#Initializing a linear regression object"
   ]
  },
  {
   "cell_type": "code",
   "execution_count": 65,
   "metadata": {},
   "outputs": [
    {
     "data": {
      "text/plain": [
       "LinearRegression(copy_X=True, fit_intercept=True, n_jobs=None,\n",
       "         normalize=False)"
      ]
     },
     "execution_count": 65,
     "metadata": {},
     "output_type": "execute_result"
    }
   ],
   "source": [
    "linreg.fit(X=x_train, y=y_train)\n",
    "#fitting the linear model on train data"
   ]
  },
  {
   "cell_type": "code",
   "execution_count": 66,
   "metadata": {},
   "outputs": [],
   "source": [
    "predictions=linreg.predict(X=x_test)\n",
    "#Making predictions on test data"
   ]
  },
  {
   "cell_type": "code",
   "execution_count": 67,
   "metadata": {},
   "outputs": [],
   "source": [
    "error=predictions-y_test\n",
    "#calculating the errors in prediction by fiding the difference in actual 'y' and \n",
    "# predicted 'y'"
   ]
  },
  {
   "cell_type": "code",
   "execution_count": 68,
   "metadata": {},
   "outputs": [
    {
     "data": {
      "text/latex": [
       "$rmse = 1/m*\\sum_{i=0}^{m-1}\\sqrt{(predictions(i)-ytest(i))^2}$\n"
      ],
      "text/plain": [
       "<IPython.core.display.Latex object>"
      ]
     },
     "metadata": {},
     "output_type": "display_data"
    }
   ],
   "source": [
    "%%latex\n",
    "$rmse = 1/m*\\sum_{i=0}^{m-1}\\sqrt{(predictions(i)-ytest(i))^2}$"
   ]
  },
  {
   "cell_type": "code",
   "execution_count": 69,
   "metadata": {},
   "outputs": [],
   "source": [
    "rmse=np.sqrt((np.sum(error**2))/len(x_test))"
   ]
  },
  {
   "cell_type": "code",
   "execution_count": 70,
   "metadata": {},
   "outputs": [
    {
     "data": {
      "text/plain": [
       "2.0225656998568877"
      ]
     },
     "execution_count": 70,
     "metadata": {},
     "output_type": "execute_result"
    }
   ],
   "source": [
    "rmse"
   ]
  },
  {
   "cell_type": "markdown",
   "metadata": {},
   "source": [
    "RMSE can be used to compare our linear regression model with other techniques and eventually pick the model with the least error. "
   ]
  },
  {
   "cell_type": "markdown",
   "metadata": {},
   "source": [
    "Next, let's see how to extract coefficients from the model."
   ]
  },
  {
   "cell_type": "code",
   "execution_count": 71,
   "metadata": {},
   "outputs": [],
   "source": [
    "coefs=linreg.coef_\n",
    "#these are the beta or theta values(beta_1 to beta_n) that our model is predicting"
   ]
  },
  {
   "cell_type": "code",
   "execution_count": 72,
   "metadata": {},
   "outputs": [
    {
     "data": {
      "text/plain": [
       "75.24596218863286"
      ]
     },
     "execution_count": 72,
     "metadata": {},
     "output_type": "execute_result"
    }
   ],
   "source": [
    "linreg.intercept_ \n",
    "# this is the intercept value"
   ]
  },
  {
   "cell_type": "code",
   "execution_count": 73,
   "metadata": {},
   "outputs": [],
   "source": [
    "features = x_train.columns"
   ]
  },
  {
   "cell_type": "code",
   "execution_count": 74,
   "metadata": {},
   "outputs": [
    {
     "data": {
      "text/plain": [
       "[('Amount.Requested', 0.00016318429645184338),\n",
       " ('Debt.To.Income.Ratio', 0.0005724866425414895),\n",
       " ('Monthly.Income', -4.1088848603575156e-05),\n",
       " ('Open.CREDIT.Lines', -0.0393078462756966),\n",
       " ('Revolving.CREDIT.Balance', -2.472474215323584e-06),\n",
       " ('Inquiries.in.the.Last.6.Months', 0.3870776386826336),\n",
       " ('Employment.Length', 0.004939976256298612),\n",
       " ('Loan_lenght_36', -3.082420573668312),\n",
       " ('lp_cem', -0.33812455519896284),\n",
       " ('lp_chos', -0.37631807997293887),\n",
       " ('lp_dm', -0.513743744137324),\n",
       " ('lp_hmvw', -0.640702578936149),\n",
       " ('ho_mortgage', -0.3785684674068913),\n",
       " ('ho_rent', -0.13052594354375308),\n",
       " ('fico', -0.08592703966767974)]"
      ]
     },
     "execution_count": 74,
     "metadata": {},
     "output_type": "execute_result"
    }
   ],
   "source": [
    "list(zip(features,coefs))"
   ]
  },
  {
   "cell_type": "markdown",
   "metadata": {},
   "source": [
    "## Regularization"
   ]
  },
  {
   "cell_type": "markdown",
   "metadata": {},
   "source": [
    "As we can see, linear regression gives the coefficient value for each feature. Ideally, the feature which does not contribute much in predicting our output variable should have a coefficient value of 0. But it is not the case. So, we use regularization to penalize and minimize the coefficients of variables that don't contribute much to our model. "
   ]
  },
  {
   "cell_type": "markdown",
   "metadata": {},
   "source": [
    "## Ridge Regression"
   ]
  },
  {
   "cell_type": "markdown",
   "metadata": {},
   "source": [
    "alpha or regularisation parameter is a hyperparameter and we'd look at multiple values of it and choose the best one through 10 fold cross validation. \n",
    "Note: In class notes, regularisation parameter is called lambda"
   ]
  },
  {
   "cell_type": "code",
   "execution_count": 75,
   "metadata": {},
   "outputs": [],
   "source": [
    "#finding the best value of regularisation parameter with cross validation for ridge\n",
    "# regression. \n",
    "alphas=np.linspace(0.0001,10,100)\n",
    "# We need to reset index for cross validation to work without hitch. \n",
    "x_train.reset_index(drop=True, inplace=True)\n",
    "y_train.reset_index(drop=True, inplace=True)"
   ]
  },
  {
   "cell_type": "code",
   "execution_count": 76,
   "metadata": {
    "scrolled": true
   },
   "outputs": [
    {
     "name": "stdout",
     "output_type": "stream",
     "text": [
      "0.000\t 2.070131\t\n",
      "0.101\t 2.070081\t\n",
      "0.202\t 2.070040\t\n",
      "0.303\t 2.070008\t\n",
      "0.404\t 2.069980\t\n",
      "0.505\t 2.069957\t\n",
      "0.606\t 2.069938\t\n",
      "0.707\t 2.069921\t\n",
      "0.808\t 2.069906\t\n",
      "0.909\t 2.069892\t\n",
      "1.010\t 2.069881\t\n",
      "1.111\t 2.069870\t\n",
      "1.212\t 2.069861\t\n",
      "1.313\t 2.069853\t\n",
      "1.414\t 2.069845\t\n",
      "1.515\t 2.069838\t\n",
      "1.616\t 2.069832\t\n",
      "1.717\t 2.069827\t\n",
      "1.818\t 2.069821\t\n",
      "1.919\t 2.069817\t\n",
      "2.020\t 2.069813\t\n",
      "2.121\t 2.069809\t\n",
      "2.222\t 2.069806\t\n",
      "2.323\t 2.069803\t\n",
      "2.424\t 2.069800\t\n",
      "2.525\t 2.069797\t\n",
      "2.626\t 2.069795\t\n",
      "2.727\t 2.069793\t\n",
      "2.828\t 2.069792\t\n",
      "2.929\t 2.069790\t\n",
      "3.030\t 2.069789\t\n",
      "3.131\t 2.069788\t\n",
      "3.232\t 2.069788\t\n",
      "3.333\t 2.069787\t\n",
      "3.434\t 2.069787\t\n",
      "3.535\t 2.069787\t\n",
      "3.636\t 2.069787\t\n",
      "3.737\t 2.069787\t\n",
      "3.838\t 2.069787\t\n",
      "3.939\t 2.069788\t\n",
      "4.040\t 2.069789\t\n",
      "4.141\t 2.069790\t\n",
      "4.242\t 2.069791\t\n",
      "4.343\t 2.069792\t\n",
      "4.444\t 2.069793\t\n",
      "4.546\t 2.069795\t\n",
      "4.647\t 2.069796\t\n",
      "4.748\t 2.069798\t\n",
      "4.849\t 2.069800\t\n",
      "4.950\t 2.069802\t\n",
      "5.051\t 2.069804\t\n",
      "5.152\t 2.069807\t\n",
      "5.253\t 2.069809\t\n",
      "5.354\t 2.069812\t\n",
      "5.455\t 2.069815\t\n",
      "5.556\t 2.069817\t\n",
      "5.657\t 2.069820\t\n",
      "5.758\t 2.069824\t\n",
      "5.859\t 2.069827\t\n",
      "5.960\t 2.069830\t\n",
      "6.061\t 2.069834\t\n",
      "6.162\t 2.069837\t\n",
      "6.263\t 2.069841\t\n",
      "6.364\t 2.069845\t\n",
      "6.465\t 2.069849\t\n",
      "6.566\t 2.069853\t\n",
      "6.667\t 2.069857\t\n",
      "6.768\t 2.069861\t\n",
      "6.869\t 2.069866\t\n",
      "6.970\t 2.069870\t\n",
      "7.071\t 2.069875\t\n",
      "7.172\t 2.069880\t\n",
      "7.273\t 2.069884\t\n",
      "7.374\t 2.069889\t\n",
      "7.475\t 2.069894\t\n",
      "7.576\t 2.069900\t\n",
      "7.677\t 2.069905\t\n",
      "7.778\t 2.069910\t\n",
      "7.879\t 2.069916\t\n",
      "7.980\t 2.069921\t\n",
      "8.081\t 2.069927\t\n",
      "8.182\t 2.069933\t\n",
      "8.283\t 2.069939\t\n",
      "8.384\t 2.069945\t\n",
      "8.485\t 2.069951\t\n",
      "8.586\t 2.069957\t\n",
      "8.687\t 2.069964\t\n",
      "8.788\t 2.069970\t\n",
      "8.889\t 2.069977\t\n",
      "8.990\t 2.069983\t\n",
      "9.091\t 2.069990\t\n",
      "9.192\t 2.069997\t\n",
      "9.293\t 2.070004\t\n",
      "9.394\t 2.070011\t\n",
      "9.495\t 2.070018\t\n",
      "9.596\t 2.070025\t\n",
      "9.697\t 2.070032\t\n",
      "9.798\t 2.070040\t\n",
      "9.899\t 2.070047\t\n",
      "10.000\t 2.070055\t\n",
      "Alpha with minimum 10CV error is 3.5354181818181822 and the corresponding RMSE is 2.069786624576659: \n"
     ]
    }
   ],
   "source": [
    "\"\"\"\n",
    "We have 100 values of alpha between 0.001 and 10. \n",
    "We use these 100 values and 10 fold CV for each value\n",
    "to see which value has the least rmse value, that value\n",
    "will give the best alpha value. \n",
    "\n",
    "    In the for-loop below: \n",
    "    \n",
    "    1. For each value of alpha: \n",
    "    \n",
    "        1.1 We initiate a KFold object for 10 fold \n",
    "        cross-validation. \n",
    "        \n",
    "        We have initiated 10 fold cross validation object so \n",
    "        cross validation loop will run for 10 iterations and each time \n",
    "        our training data X_train will be split into 10 buckets. \n",
    "        Likewise if we use 20 fold cross validation our cross validation\n",
    "        loop will run for 20 times and the training data will be split \n",
    "        into 20 buckets.\n",
    "        \n",
    "        1.2. We initiate an object called xval_err as 0.\n",
    "        \n",
    "        1.3. For each alpha and first iteration of the KFold validation:\n",
    "               \n",
    "            1.3.1. The k-fold will split our training data [x_train] into \n",
    "            9 buckets of training data and 1 bucket of validation data. \n",
    "            It will use 9 buckets of the training data [X_train] to train \n",
    "            the Ridge model and 1 bucket of the training data [X_train] to \n",
    "            preidct the output [Y_cap]. \n",
    "\n",
    "            1.3.2. This predicted 'y_cap' is subtracted from the actual \n",
    "            y values from the training data [X_train] corresponding to the \n",
    "            10th set (validation set) to calculate the validation\n",
    "            error.\n",
    "\n",
    "            1.3.3. The validation error for this iteration is squared and \n",
    "            added to the variable xval_err for the next 10 iterations.\n",
    "\n",
    "        1.4. The total validation error for the past 10 iterations \n",
    "        are squared, divided by the length of the \n",
    "        training dataset(x_train) and a squared root is taken on the \n",
    "        quotient. \n",
    "        This is the RMSE for this value of alpha using 10 fold CV. \n",
    "        \n",
    "        1.5. This RMSE value is stored in the rmse_list object.\n",
    "        Once we have completed iterating through all the alpha values,\n",
    "        the rmse_list object will have a length of 100, since we\n",
    "        use 100 different alpha values. \n",
    "        \n",
    "        1.6. Finally the alpha value which corresponds to the minimum \n",
    "        rmse value is returned as the optimal alpha value.         \n",
    "    \"\"\"  \n",
    "rmse_list=[]\n",
    "\n",
    "for a in alphas:\n",
    "    ridge=Ridge(fit_intercept=True, alpha=a)\n",
    "    # ridge is a linear regression model with L2 regularization. \n",
    "    \n",
    "    kf = KFold(n_splits=10)\n",
    "    xval_err=0\n",
    "    i =0\n",
    "    for train_index, validation_index in kf.split(x_train):\n",
    "        #print(len(train_index), len(validation_index))\n",
    "        ridge.fit(x_train.iloc[train_index,:], y_train[train_index])\n",
    "        p=ridge.predict(x_train.iloc[validation_index,:])\n",
    "        err = p-y_train[validation_index] #iloc doesn't work here for some reason\n",
    "        xval_err = xval_err+np.dot(err, err)\n",
    "    rmse_10cv = np.sqrt(xval_err/len(x_train))\n",
    "    rmse_list.append(rmse_10cv)\n",
    "    print('{:.3f}\\t {:.6f}\\t'.format(a, rmse_10cv))\n",
    "best_alpha= alphas[rmse_list==min(rmse_list)]\n",
    "print('Alpha with minimum 10CV error is {} and the corresponding RMSE is {}: '.\n",
    "      format(best_alpha[0], min(rmse_list)))"
   ]
  },
  {
   "cell_type": "markdown",
   "metadata": {},
   "source": [
    "Now we will use the best alpha value that we just determined to fit a ridge regression object on the entire dataset and predict the rmse value for the entire dataset. "
   ]
  },
  {
   "cell_type": "code",
   "execution_count": 77,
   "metadata": {},
   "outputs": [
    {
     "data": {
      "text/plain": [
       "2.0236668696412723"
      ]
     },
     "execution_count": 77,
     "metadata": {},
     "output_type": "execute_result"
    }
   ],
   "source": [
    "ridge=Ridge(fit_intercept=True, alpha=best_alpha)\n",
    "ridge.fit(x_train, y_train)\n",
    "predictionsOnTestData = ridge.predict(x_test)\n",
    "predictionErrorOnTestData = predictionsOnTestData - y_test\n",
    "rmse_ridge = np.sqrt(np.dot(predictionErrorOnTestData,\n",
    "                            predictionErrorOnTestData)/len(predictionsOnTestData))\n",
    "rmse_ridge"
   ]
  },
  {
   "cell_type": "code",
   "execution_count": 78,
   "metadata": {},
   "outputs": [
    {
     "data": {
      "text/plain": [
       "[('Amount.Requested', 0.0001641799190080323),\n",
       " ('Debt.To.Income.Ratio', 0.0006487949921075561),\n",
       " ('Monthly.Income', -4.169344863753166e-05),\n",
       " ('Open.CREDIT.Lines', -0.039616383599302744),\n",
       " ('Revolving.CREDIT.Balance', -2.5209565104184987e-06),\n",
       " ('Inquiries.in.the.Last.6.Months', 0.3870049295626152),\n",
       " ('Employment.Length', 0.004888838204666946),\n",
       " ('Loan_lenght_36', -3.041894854788477),\n",
       " ('lp_cem', 0.011310143101232472),\n",
       " ('lp_chos', -0.0321514576874333),\n",
       " ('lp_dm', -0.1690620008874746),\n",
       " ('lp_hmvw', -0.2882910897632634),\n",
       " ('ho_mortgage', -0.3626507937625516),\n",
       " ('ho_rent', -0.11681552700277421),\n",
       " ('fico', -0.08593974410496531)]"
      ]
     },
     "execution_count": 78,
     "metadata": {},
     "output_type": "execute_result"
    }
   ],
   "source": [
    "list(zip(x_train.columns,ridge.coef_))"
   ]
  },
  {
   "cell_type": "markdown",
   "metadata": {},
   "source": [
    "### Results of Ridge Regression: \n",
    "We can see that ridge even though regression shrinks the coefficient value for each variable, it never really makes them 0. Which means it never shrinks the size of our model. "
   ]
  },
  {
   "cell_type": "markdown",
   "metadata": {},
   "source": [
    "## Lasso Regression"
   ]
  },
  {
   "cell_type": "code",
   "execution_count": 79,
   "metadata": {},
   "outputs": [
    {
     "name": "stdout",
     "output_type": "stream",
     "text": [
      "0.000\t 2.070110\t\n",
      "0.010\t 2.069490\t\n",
      "0.020\t 2.069924\t\n",
      "0.030\t 2.071233\t\n",
      "0.041\t 2.073187\t\n",
      "0.051\t 2.075622\t\n",
      "0.061\t 2.077515\t\n",
      "0.071\t 2.079609\t\n",
      "0.081\t 2.082291\t\n",
      "0.091\t 2.085403\t\n",
      "0.101\t 2.088892\t\n",
      "0.111\t 2.092756\t\n",
      "0.121\t 2.096993\t\n",
      "0.131\t 2.101651\t\n",
      "0.141\t 2.106692\t\n",
      "0.152\t 2.112098\t\n",
      "0.162\t 2.117865\t\n",
      "0.172\t 2.123991\t\n",
      "0.182\t 2.130519\t\n",
      "0.192\t 2.137403\t\n",
      "0.202\t 2.144636\t\n",
      "0.212\t 2.152212\t\n",
      "0.222\t 2.160129\t\n",
      "0.232\t 2.168383\t\n",
      "0.242\t 2.176970\t\n",
      "0.253\t 2.185886\t\n",
      "0.263\t 2.195126\t\n",
      "0.273\t 2.204688\t\n",
      "0.283\t 2.214567\t\n",
      "0.293\t 2.224758\t\n",
      "0.303\t 2.235257\t\n",
      "0.313\t 2.246061\t\n",
      "0.323\t 2.257168\t\n",
      "0.333\t 2.268569\t\n",
      "0.343\t 2.280261\t\n",
      "0.354\t 2.292239\t\n",
      "0.364\t 2.304500\t\n",
      "0.374\t 2.317037\t\n",
      "0.384\t 2.329848\t\n",
      "0.394\t 2.342926\t\n",
      "0.404\t 2.356269\t\n",
      "0.414\t 2.369871\t\n",
      "0.424\t 2.382382\t\n",
      "0.434\t 2.391821\t\n",
      "0.444\t 2.397942\t\n",
      "0.455\t 2.399453\t\n",
      "0.465\t 2.400998\t\n",
      "0.475\t 2.402576\t\n",
      "0.485\t 2.404186\t\n",
      "0.495\t 2.405833\t\n",
      "0.505\t 2.407512\t\n",
      "0.515\t 2.409228\t\n",
      "0.525\t 2.410977\t\n",
      "0.535\t 2.412759\t\n",
      "0.545\t 2.414465\t\n",
      "0.556\t 2.415905\t\n",
      "0.566\t 2.417304\t\n",
      "0.576\t 2.418402\t\n",
      "0.586\t 2.419524\t\n",
      "0.596\t 2.420670\t\n",
      "0.606\t 2.421792\t\n",
      "0.616\t 2.422704\t\n",
      "0.626\t 2.423412\t\n",
      "0.636\t 2.423918\t\n",
      "0.646\t 2.424262\t\n",
      "0.657\t 2.424449\t\n",
      "0.667\t 2.424487\t\n",
      "0.677\t 2.424484\t\n",
      "0.687\t 2.424482\t\n",
      "0.697\t 2.424464\t\n",
      "0.707\t 2.424446\t\n",
      "0.717\t 2.424429\t\n",
      "0.727\t 2.424410\t\n",
      "0.737\t 2.424384\t\n",
      "0.747\t 2.424358\t\n",
      "0.758\t 2.424331\t\n",
      "0.768\t 2.424302\t\n",
      "0.778\t 2.424273\t\n",
      "0.788\t 2.424244\t\n",
      "0.798\t 2.424217\t\n",
      "0.808\t 2.424189\t\n",
      "0.818\t 2.424163\t\n",
      "0.828\t 2.424136\t\n",
      "0.838\t 2.424113\t\n",
      "0.848\t 2.424115\t\n",
      "0.859\t 2.424118\t\n",
      "0.869\t 2.424120\t\n",
      "0.879\t 2.424123\t\n",
      "0.889\t 2.424125\t\n",
      "0.899\t 2.424128\t\n",
      "0.909\t 2.424130\t\n",
      "0.919\t 2.424133\t\n",
      "0.929\t 2.424136\t\n",
      "0.939\t 2.424138\t\n",
      "0.949\t 2.424141\t\n",
      "0.960\t 2.424144\t\n",
      "0.970\t 2.424147\t\n",
      "0.980\t 2.424149\t\n",
      "0.990\t 2.424152\t\n",
      "1.000\t 2.424155\t\n",
      "Alpha with minimum 10CV error is 0.010199999999999999 and the corresponding RMSE is 2.069490402334332: \n"
     ]
    }
   ],
   "source": [
    "\"\"\"\n",
    "We have 100 values of alpha between 0.001 and 1. \n",
    "We use these 100 values and 10 fold CV for each value\n",
    "to see which value has the least rmse, that value\n",
    "will be the best alpha. \n",
    "\n",
    "    In the for-loop below: \n",
    "    \n",
    "    1. For each value of alpha: \n",
    "    \n",
    "        1.1 We initiate a KFold object for 10 fold \n",
    "        cross-validation. \n",
    "        \n",
    "        We have initiated 10 fold cross validation object so \n",
    "        cross validation loop will run for 10 iterations and each time \n",
    "        our training data X_train will be split into 10 buckets. \n",
    "        Likewise if we use 20 fold cross validation our cross validation\n",
    "        loop will run for 20 times and the training data will be split \n",
    "        into 20 buckets.\n",
    "        \n",
    "        1.2. We initiate an object called xval_err which is equal to 0.\n",
    "        \n",
    "        1.3. For each alpha and first iteration of the KFold validation:\n",
    "               \n",
    "            1.3.1. The k-fold will split our training data [x_train] into \n",
    "            9 buckets of training data and 1 bucket of validation data. \n",
    "            It will use 9 buckets of the training data [X_train] to train \n",
    "            the Lasso model and 1 bucket of the training data [X_train] to \n",
    "            preidct the output [Y_cap]. \n",
    "\n",
    "            1.3.2. This predicted 'y_cap' is subtracted from the actual \n",
    "            y values from the training data [X_train] corresponding to the \n",
    "            10th set (validation set) to calculate the validation\n",
    "            error.\n",
    "\n",
    "            1.3.3. The validation error for this iteration is squared and \n",
    "            added to the variable xval_err for the next 10 iterations.\n",
    "\n",
    "        1.4. The total validation error for the past 10 iterations \n",
    "        are squared, divided by the length of the \n",
    "        training dataset(x_train) and a squared root is taken on the \n",
    "        quotient. \n",
    "        This is the RMSE for this value of alpha using 10 fold CV. \n",
    "        \n",
    "        1.5. This RMSE value is stored in the rmse_list object.\n",
    "        Once we have completed iterating through all the alpha values,\n",
    "        the rmse_list object will have a length of 100, since we\n",
    "        use 100 different alpha values. \n",
    "        \n",
    "        1.6. Finally the alpha value which corresponds to the minimum \n",
    "        rmse value is returned as the optimal alpha value.\"\"\"\n",
    "\n",
    "alphas=np.linspace(0.0001,1,100)\n",
    "rmse_list=[]\n",
    "\n",
    "for a in alphas:\n",
    "    lasso=Lasso(fit_intercept=True, alpha=a, max_iter=10000)\n",
    "    # Lasso is a linear regression model with L1 regularization. \n",
    "    \n",
    "    kf = KFold(n_splits=10)\n",
    "    xval_err=0\n",
    "    for train_index, validation_index in kf.split(x_train):\n",
    "        lasso.fit(x_train.iloc[train_index,:], y_train[train_index])\n",
    "        p=lasso.predict(x_train.iloc[validation_index,:])\n",
    "        err = p-y_train[validation_index] #iloc doesn't work here for some reason\n",
    "        xval_err = xval_err+np.dot(err, err)\n",
    "    rmse_10cv = np.sqrt(xval_err/len(x_train))\n",
    "    rmse_list.append(rmse_10cv)\n",
    "    print('{:.3f}\\t {:.6f}\\t'.format(a, rmse_10cv))\n",
    "best_alpha= alphas[rmse_list==min(rmse_list)]\n",
    "print('Alpha with minimum 10CV error is {} and the corresponding RMSE is {}: '.\n",
    "      format(best_alpha[0], min(rmse_list)))"
   ]
  },
  {
   "cell_type": "markdown",
   "metadata": {},
   "source": [
    "The best alpha value we got throuh lasso regression is 0.010199. We will use this value to train our final Lasso model and calculate the rmse. "
   ]
  },
  {
   "cell_type": "code",
   "execution_count": 80,
   "metadata": {},
   "outputs": [
    {
     "data": {
      "text/plain": [
       "2.023276788895483"
      ]
     },
     "execution_count": 80,
     "metadata": {},
     "output_type": "execute_result"
    }
   ],
   "source": [
    "lasso=Lasso(fit_intercept=True, alpha=best_alpha)\n",
    "lasso.fit(x_train, y_train)\n",
    "predictionsOnTestData_lasso = lasso.predict(x_test)\n",
    "predictionErrorOnTestData_lasso = predictionsOnTestData_lasso - y_test\n",
    "rmse_lasso = np.sqrt(np.dot(predictionErrorOnTestData_lasso,\n",
    "                            predictionErrorOnTestData_lasso)/len(predictionsOnTestData_lasso))\n",
    "rmse_lasso"
   ]
  },
  {
   "cell_type": "code",
   "execution_count": 81,
   "metadata": {},
   "outputs": [
    {
     "data": {
      "text/plain": [
       "[('Amount.Requested', 0.00016395821531931226),\n",
       " ('Debt.To.Income.Ratio', 0.00032219108556223947),\n",
       " ('Monthly.Income', -4.2720916538871394e-05),\n",
       " ('Open.CREDIT.Lines', -0.03907551699159986),\n",
       " ('Revolving.CREDIT.Balance', -2.5527196166969956e-06),\n",
       " ('Inquiries.in.the.Last.6.Months', 0.37860640070117296),\n",
       " ('Employment.Length', 0.002810166741741678),\n",
       " ('Loan_lenght_36', -3.0073811789972993),\n",
       " ('lp_cem', 0.0),\n",
       " ('lp_chos', 0.057359802778081066),\n",
       " ('lp_dm', -0.027293745553160276),\n",
       " ('lp_hmvw', -0.0562011482052836),\n",
       " ('ho_mortgage', -0.22708727621821279),\n",
       " ('ho_rent', -0.0),\n",
       " ('fico', -0.08593321837314784)]"
      ]
     },
     "execution_count": 81,
     "metadata": {},
     "output_type": "execute_result"
    }
   ],
   "source": [
    "list(zip(x_train.columns,lasso.coef_))"
   ]
  },
  {
   "cell_type": "markdown",
   "metadata": {},
   "source": [
    "### Results of Lasso Regression\n",
    "As, we can see Lasso regression not only reduces our RMSE value a little, it also reduces the size of our model by making the coefficients of some variables as zero. "
   ]
  },
  {
   "cell_type": "markdown",
   "metadata": {},
   "source": [
    "## Analysing the trend between the FICO score in our test data and the response variables from the Linear Regression model without regularisation and Lasso and Ridge regression models and the. "
   ]
  },
  {
   "cell_type": "code",
   "execution_count": 92,
   "metadata": {},
   "outputs": [
    {
     "data": {
      "text/plain": [
       "<matplotlib.collections.PathCollection at 0x19f4d8b16d8>"
      ]
     },
     "execution_count": 92,
     "metadata": {},
     "output_type": "execute_result"
    },
    {
     "data": {
      "image/png": "[encoded data removed]",
      "text/plain": [
       "<Figure size 432x288 with 1 Axes>"
      ]
     },
     "metadata": {
      "needs_background": "light"
     },
     "output_type": "display_data"
    }
   ],
   "source": [
    "\"\"\" Trend between LR model without regularization and FICO score in the data set\"\"\"\n",
    "\n",
    "plt.scatter(x=predictions, y=x_test.fico)"
   ]
  },
  {
   "cell_type": "code",
   "execution_count": 93,
   "metadata": {},
   "outputs": [
    {
     "data": {
      "text/plain": [
       "<matplotlib.collections.PathCollection at 0x19f4cbde518>"
      ]
     },
     "execution_count": 93,
     "metadata": {},
     "output_type": "execute_result"
    },
    {
     "data": {
      "image/png": "[encoded data removed]",
      "text/plain": [
       "<Figure size 432x288 with 1 Axes>"
      ]
     },
     "metadata": {
      "needs_background": "light"
     },
     "output_type": "display_data"
    }
   ],
   "source": [
    "\"\"\" Trend between LR model with Ridge regularization and FICO score in the data set\"\"\"\n",
    "\n",
    "plt.scatter(x=predictionsOnTestData, y=x_test.fico)"
   ]
  },
  {
   "cell_type": "code",
   "execution_count": 94,
   "metadata": {
    "scrolled": true
   },
   "outputs": [
    {
     "data": {
      "text/plain": [
       "<matplotlib.collections.PathCollection at 0x19f4d332048>"
      ]
     },
     "execution_count": 94,
     "metadata": {},
     "output_type": "execute_result"
    },
    {
     "data": {
      "image/png": "[encoded data removed]",
      "text/plain": [
       "<Figure size 432x288 with 1 Axes>"
      ]
     },
     "metadata": {
      "needs_background": "light"
     },
     "output_type": "display_data"
    }
   ],
   "source": [
    "\"\"\" Trend between LR model with Lasso regularization and FICO score in the data set\"\"\"\n",
    "\n",
    "plt.scatter(x=predictionsOnTestData_lasso, y=x_test.fico)"
   ]
  },
  {
   "cell_type": "markdown",
   "metadata": {},
   "source": [
    "### The trend between our response variables and FICO score is linear as we assumed in the beggining. This linearity assumption is what made us choose Linear Regression model. "
   ]
  }
 ],
 "metadata": {
  "kernelspec": {
   "display_name": "Python 3",
   "language": "python",
   "name": "python3"
  },
  "language_info": {
   "codemirror_mode": {
    "name": "ipython",
    "version": 3
   },
   "file_extension": ".py",
   "mimetype": "text/x-python",
   "name": "python",
   "nbconvert_exporter": "python",
   "pygments_lexer": "ipython3",
   "version": "3.7.3"
  }
 },
 "nbformat": 4,
 "nbformat_minor": 2
}
